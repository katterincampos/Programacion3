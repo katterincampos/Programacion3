{
  "nbformat": 4,
  "nbformat_minor": 0,
  "metadata": {
    "colab": {
      "provenance": [],
      "collapsed_sections": [],
      "include_colab_link": true
    },
    "kernelspec": {
      "name": "python3",
      "display_name": "Python 3"
    },
    "language_info": {
      "name": "python"
    }
  },
  "cells": [
    {
      "cell_type": "markdown",
      "metadata": {
        "id": "view-in-github",
        "colab_type": "text"
      },
      "source": [
        "<a href=\"https://colab.research.google.com/github/katterincampos/Programacion3/blob/main/Copia_de_Codigosdeprogramaci%C3%B3n3.ipynb\" target=\"_parent\"><img src=\"https://colab.research.google.com/assets/colab-badge.svg\" alt=\"Open In Colab\"/></a>"
      ]
    },
    {
      "cell_type": "code",
      "execution_count": null,
      "metadata": {
        "colab": {
          "base_uri": "https://localhost:8080/"
        },
        "id": "428xb_WhLa3L",
        "outputId": "9080fa34-3600-41b0-9e6c-bf14cb775c90"
      },
      "outputs": [
        {
          "output_type": "stream",
          "name": "stdout",
          "text": [
            "hola Mundo Bienvenidos a Programacion Computacional III, con Python\n",
            "Mi nombre es:  Katterin Campos\n"
          ]
        }
      ],
      "source": [
        "print(\"hola Mundo\", \"Bienvenidos a Programacion Computacional III, con Python\")\n",
        "print(\"Mi nombre es: \", \"Katterin Campos\")"
      ]
    },
    {
      "cell_type": "code",
      "source": [
        "nombre = \"Katterin Campos\"\n",
        "print(\"Hola \", nombre, type(nombre))\n",
        "\n",
        "nombre = 25\n",
        "print(\"Tu edad es: \", nombre + 2, type(nombre))"
      ],
      "metadata": {
        "colab": {
          "base_uri": "https://localhost:8080/"
        },
        "id": "DyKL8CbiL4uo",
        "outputId": "c495fc69-c7db-4dde-ca41-f17f63d530ad"
      },
      "execution_count": null,
      "outputs": [
        {
          "output_type": "stream",
          "name": "stdout",
          "text": [
            "Hola  Katterin Campos <class 'str'>\n",
            "Tu edad es:  27 <class 'int'>\n"
          ]
        }
      ]
    },
    {
      "cell_type": "code",
      "source": [
        "nombre = \"Katterin campos\"\n",
        "print(\"Tu nombre es: \", nombre, \"Longitud de tu Nombre: \", len(nombre), \"Iniciales: \", nombre[0],nombre[5])"
      ],
      "metadata": {
        "colab": {
          "base_uri": "https://localhost:8080/"
        },
        "id": "p8hcVp9-MIzB",
        "outputId": "57006876-670c-4f88-d432-d301784ca388"
      },
      "execution_count": null,
      "outputs": [
        {
          "output_type": "stream",
          "name": "stdout",
          "text": [
            "Tu nombre es:  Katterin campos Longitud de tu Nombre:  15 Iniciales:  K r\n"
          ]
        }
      ]
    },
    {
      "cell_type": "code",
      "source": [
        "num1 = 5\n",
        "num2 = 4.6\n",
        "resp = num1 + num2\n",
        "print(\"La suma de num1: \", num1 , \" + num2: \", num2, \"es igual a: \", resp)"
      ],
      "metadata": {
        "colab": {
          "base_uri": "https://localhost:8080/"
        },
        "id": "4Zn1RHvqMW_I",
        "outputId": "98e8611b-f7ba-429b-9c3c-7fcbc456de7d"
      },
      "execution_count": null,
      "outputs": [
        {
          "output_type": "stream",
          "name": "stdout",
          "text": [
            "La suma de num1:  5  + num2:  4.6 es igual a:  9.6\n"
          ]
        }
      ]
    },
    {
      "cell_type": "code",
      "source": [
        "num1 = 6\n",
        "num2 = 2\n",
        "resp = num1 - num2\n",
        "print(\"la resta  de num1: \" , num1 , \"- num2: \", num2, \"es igual a: \", resp)"
      ],
      "metadata": {
        "colab": {
          "base_uri": "https://localhost:8080/"
        },
        "id": "uX36hdyoNayM",
        "outputId": "2eb7cfab-a48a-4df0-9f71-61a30bb1db23"
      },
      "execution_count": null,
      "outputs": [
        {
          "output_type": "stream",
          "name": "stdout",
          "text": [
            "la resta  de num1:  6 - num2:  2 es igual a:  4\n"
          ]
        }
      ]
    },
    {
      "cell_type": "code",
      "source": [
        "num1 = int (input(\"ingrese un numero entero: \"))\n",
        "num2 = int (input(\"ingrese un numero entero: \"))\n",
        "resp = num1 * num2\n",
        "print(\"multiplicacion\", resp)"
      ],
      "metadata": {
        "colab": {
          "base_uri": "https://localhost:8080/"
        },
        "id": "dyR2wgk_N1Dj",
        "outputId": "9449ba3c-2d37-4394-ee65-fee8b99958ea"
      },
      "execution_count": null,
      "outputs": [
        {
          "output_type": "stream",
          "name": "stdout",
          "text": [
            "ingrese un numero entero: 6\n",
            "ingrese un numero entero: 2\n",
            "multiplicacion 12\n"
          ]
        }
      ]
    },
    {
      "cell_type": "code",
      "source": [
        "num1 = float(input(\"Ingrese un numero entero: \"))\n",
        "num2 = float(input(\"Ingrese otro Num decimal: \"))\n",
        "resp = num1 + num2\n",
        "print(\"Suma\", resp, type(resp))"
      ],
      "metadata": {
        "colab": {
          "base_uri": "https://localhost:8080/"
        },
        "id": "wB-YLOOfM-vM",
        "outputId": "01a3b3c1-da14-412f-f2bd-30626e18f34b"
      },
      "execution_count": null,
      "outputs": [
        {
          "output_type": "stream",
          "name": "stdout",
          "text": [
            "Ingrese un numero entero: 5\n",
            "Ingrese otro Num decimal: 4.6\n",
            "Suma 9.6 <class 'float'>\n"
          ]
        }
      ]
    },
    {
      "cell_type": "code",
      "source": [
        "nombre = input(\"dime tu nombre: \")\n",
        "print(nombre, type(nombre), len(nombre))\n",
        "print(nombre[0])\n",
        "print(nombre[1])\n",
        "print(nombre[2])\n",
        "print(nombre[3])\n"
      ],
      "metadata": {
        "colab": {
          "base_uri": "https://localhost:8080/"
        },
        "id": "DvMWGBR9ODmY",
        "outputId": "bd741388-beef-4e8b-db28-8316354fe1d6"
      },
      "execution_count": null,
      "outputs": [
        {
          "output_type": "stream",
          "name": "stdout",
          "text": [
            "dime tu nombre: katy\n",
            "katy <class 'str'> 4\n",
            "k\n",
            "a\n",
            "t\n",
            "y\n"
          ]
        }
      ]
    },
    {
      "cell_type": "code",
      "source": [
        "resp = 4 + 4 * 6 / 2 + 1\n",
        "print(resp)"
      ],
      "metadata": {
        "colab": {
          "base_uri": "https://localhost:8080/"
        },
        "id": "IPzpJ36hOLEI",
        "outputId": "167e6fa8-9944-4cbd-cdd9-f11bf4d9d091"
      },
      "execution_count": null,
      "outputs": [
        {
          "output_type": "stream",
          "name": "stdout",
          "text": [
            "17.0\n"
          ]
        }
      ]
    },
    {
      "cell_type": "code",
      "source": [
        "gustaProgrmacion = False\n",
        "print(\"Te gusta programar: \", gustaProgrmacion)\n",
        "\n",
        "gustaDiseño = True\n",
        "print(\"Te gusta diseñar: \", gustaDiseño)"
      ],
      "metadata": {
        "colab": {
          "base_uri": "https://localhost:8080/"
        },
        "id": "HNfkXqZoOOPd",
        "outputId": "cc5e381f-3c60-4bb7-cabb-74a2845d0b05"
      },
      "execution_count": null,
      "outputs": [
        {
          "output_type": "stream",
          "name": "stdout",
          "text": [
            "Te gusta programar:  False\n",
            "Te gusta diseñar:  True\n"
          ]
        }
      ]
    },
    {
      "cell_type": "code",
      "source": [
        "def suma(num1, num2):\n",
        "  return num1 + num2\n",
        "print(\"La suma de 5 + 7 = \", suma(5,7))"
      ],
      "metadata": {
        "colab": {
          "base_uri": "https://localhost:8080/"
        },
        "id": "NZROpGB2OeIJ",
        "outputId": "7d48dbe2-153a-4b57-f3db-536c74b12ef4"
      },
      "execution_count": null,
      "outputs": [
        {
          "output_type": "stream",
          "name": "stdout",
          "text": [
            "La suma de 5 + 7 =  12\n"
          ]
        }
      ]
    },
    {
      "cell_type": "code",
      "source": [
        "def suma(num1, num2):\n",
        "  return num1 + num2\n",
        "num1 =int (input(\"Ingrese un numero entero: \"))\n",
        "num2 = int(input(\"Ingrerse otro Numero : \"))\n",
        "resp = num1 + num2\n",
        "print(\"suma\", resp)"
      ],
      "metadata": {
        "colab": {
          "base_uri": "https://localhost:8080/"
        },
        "id": "mXVQp3OUOiHg",
        "outputId": "d56c9e79-9271-4773-ac51-2f5fe32d0fc4"
      },
      "execution_count": null,
      "outputs": [
        {
          "output_type": "stream",
          "name": "stdout",
          "text": [
            "Ingrese un numero entero: 2\n",
            "Ingrerse otro Numero : 2\n",
            "suma 4\n"
          ]
        }
      ]
    },
    {
      "cell_type": "code",
      "source": [
        "suma = lambda num1,num2: num1 + num2"
      ],
      "metadata": {
        "id": "5J5SAC2pO3rR"
      },
      "execution_count": null,
      "outputs": []
    },
    {
      "cell_type": "code",
      "source": [
        "num1 = float(input(\"Num1: \"))\n",
        "num2 = float(input(\"Num2: \"))\n",
        "print( \"La respuesta es: \", suma(num1, num2))"
      ],
      "metadata": {
        "colab": {
          "base_uri": "https://localhost:8080/"
        },
        "id": "S7bAsWB_Pgoq",
        "outputId": "064d0f40-e337-4577-cd03-58048d68f572"
      },
      "execution_count": null,
      "outputs": [
        {
          "output_type": "stream",
          "name": "stdout",
          "text": [
            "Num1: 5\n",
            "Num2: 4.6\n",
            "La respuesta es:  9.6\n"
          ]
        }
      ]
    },
    {
      "cell_type": "code",
      "source": [
        "lista = [2,7,8,6,9]"
      ],
      "metadata": {
        "id": "dzjCeQQ_PtN2"
      },
      "execution_count": null,
      "outputs": []
    },
    {
      "cell_type": "code",
      "source": [
        "cuadrado = lambda num: num**2"
      ],
      "metadata": {
        "id": "6hnUe0RrPuhV"
      },
      "execution_count": null,
      "outputs": []
    },
    {
      "cell_type": "code",
      "source": [
        "print( type(cuadrado) )"
      ],
      "metadata": {
        "colab": {
          "base_uri": "https://localhost:8080/"
        },
        "id": "rxNx5uWZP8Q6",
        "outputId": "d46f2e5c-2dee-4714-9430-885c42ddd4c6"
      },
      "execution_count": null,
      "outputs": [
        {
          "output_type": "stream",
          "name": "stdout",
          "text": [
            "<class 'function'>\n"
          ]
        }
      ]
    },
    {
      "cell_type": "code",
      "source": [
        "cubo  = lambda num: num**3"
      ],
      "metadata": {
        "id": "E_YZUNniQBfm"
      },
      "execution_count": null,
      "outputs": []
    },
    {
      "cell_type": "code",
      "source": [
        "potencia = lambda num, n: num**n"
      ],
      "metadata": {
        "id": "hnCCwz44QFj5"
      },
      "execution_count": null,
      "outputs": []
    },
    {
      "cell_type": "code",
      "source": [
        "print(\"Lista: \", lista, \" al cuadrado: \", list( map(cuadrado, lista) ), \" al cubo: \", list(map(cubo, lista)) )"
      ],
      "metadata": {
        "colab": {
          "base_uri": "https://localhost:8080/"
        },
        "id": "ZT4wfeVZQJSB",
        "outputId": "0616e13a-6b98-45eb-cbbe-307bf0831901"
      },
      "execution_count": null,
      "outputs": [
        {
          "output_type": "stream",
          "name": "stdout",
          "text": [
            "Lista:  [2, 7, 8, 6, 9]  al cuadrado:  [4, 49, 64, 36, 81]  al cubo:  [8, 343, 512, 216, 729]\n"
          ]
        }
      ]
    },
    {
      "cell_type": "code",
      "source": [
        "print( \"2 al cubo es: \", potencia(4, 5) )"
      ],
      "metadata": {
        "colab": {
          "base_uri": "https://localhost:8080/"
        },
        "id": "brC1D455QOMJ",
        "outputId": "fa8f609d-4fdf-4dbf-b6c7-43186cba0a0b"
      },
      "execution_count": null,
      "outputs": [
        {
          "output_type": "stream",
          "name": "stdout",
          "text": [
            "2 al cubo es:  1024\n"
          ]
        }
      ]
    },
    {
      "cell_type": "code",
      "source": [
        "print(\"Lista Original: \", lista, \" al cubo: \", list(map(lambda num: num**3, lista)) )"
      ],
      "metadata": {
        "colab": {
          "base_uri": "https://localhost:8080/"
        },
        "id": "GW6oQJiIQS1d",
        "outputId": "c86db8e7-a5ed-4788-88e8-f9735b8684e5"
      },
      "execution_count": null,
      "outputs": [
        {
          "output_type": "stream",
          "name": "stdout",
          "text": [
            "Lista Original:  [2, 7, 8, 6, 9]  al cubo:  [8, 343, 512, 216, 729]\n"
          ]
        }
      ]
    },
    {
      "cell_type": "code",
      "source": [
        "fpares = lambda num: num%2==0 # %=> Modulo=> devuelve el residuo de una division 5/2 = 1=>residuo"
      ],
      "metadata": {
        "id": "JAeeB00_Qkz3"
      },
      "execution_count": null,
      "outputs": []
    },
    {
      "cell_type": "code",
      "source": [
        "fimpares = lambda num: num%2!=0"
      ],
      "metadata": {
        "id": "8m1GjAIAQrTh"
      },
      "execution_count": null,
      "outputs": []
    },
    {
      "cell_type": "code",
      "source": [
        "print(\"Lista original: \", lista, \" solo pares: \", list(filter(fpares, lista)), \" los impares: \", list(filter(fimpares, lista)) )"
      ],
      "metadata": {
        "colab": {
          "base_uri": "https://localhost:8080/"
        },
        "id": "5VBNBWcKQsjg",
        "outputId": "70ba0f62-51b5-468b-f011-d6f31a4b988b"
      },
      "execution_count": null,
      "outputs": [
        {
          "output_type": "stream",
          "name": "stdout",
          "text": [
            "Lista original:  [2, 7, 8, 6, 9]  solo pares:  [2, 8, 6]  los impares:  [7, 9]\n"
          ]
        }
      ]
    },
    {
      "cell_type": "code",
      "source": [
        "suma = lambda a,b: a+b"
      ],
      "metadata": {
        "id": "cX7vehyeQw8v"
      },
      "execution_count": null,
      "outputs": []
    },
    {
      "cell_type": "code",
      "source": [
        "#import functools"
      ],
      "metadata": {
        "id": "CY52R8uEQ4VX"
      },
      "execution_count": null,
      "outputs": []
    },
    {
      "cell_type": "code",
      "source": [
        "import functools\n",
        "print(\"Lista original: \", lista, \"la suma: \", functools.reduce(suma, lista), \" media Aritmetica: \", functools.reduce(suma, lista)/len(lista) )"
      ],
      "metadata": {
        "colab": {
          "base_uri": "https://localhost:8080/"
        },
        "id": "mkDtntPyQ8P1",
        "outputId": "620594c5-85b5-495e-fcc9-8a9dffc3b7f2"
      },
      "execution_count": null,
      "outputs": [
        {
          "output_type": "stream",
          "name": "stdout",
          "text": [
            "Lista original:  [2, 7, 8, 6, 9] la suma:  32  media Aritmetica:  6.4\n"
          ]
        }
      ]
    },
    {
      "cell_type": "code",
      "source": [
        "c= 27"
      ],
      "metadata": {
        "id": "egC5SuY9RB29"
      },
      "execution_count": null,
      "outputs": []
    },
    {
      "cell_type": "code",
      "source": [
        "def convertirCaF(c):\n",
        "  return c*9/5 + 32"
      ],
      "metadata": {
        "id": "AKlJ9It-RcW7"
      },
      "execution_count": null,
      "outputs": []
    },
    {
      "cell_type": "code",
      "source": [
        "print(\"Celsius a F: \", convertirCaF(c))"
      ],
      "metadata": {
        "colab": {
          "base_uri": "https://localhost:8080/"
        },
        "id": "nqXpHqTURfhJ",
        "outputId": "351c0fbf-2dd8-4ee6-e051-25a99efea3aa"
      },
      "execution_count": null,
      "outputs": [
        {
          "output_type": "stream",
          "name": "stdout",
          "text": [
            "Celsius a F:  80.6\n"
          ]
        }
      ]
    },
    {
      "cell_type": "code",
      "source": [
        "gradosCiudades = [27, 30, 32, 35, 40, 45]"
      ],
      "metadata": {
        "id": "JJxsUA39RuCD"
      },
      "execution_count": null,
      "outputs": []
    },
    {
      "cell_type": "code",
      "source": [
        "print(gradosCiudades, \"Respuesta: \", list(map(convertirCaF, gradosCiudades)) )"
      ],
      "metadata": {
        "colab": {
          "base_uri": "https://localhost:8080/"
        },
        "id": "qd-lGBJbRvt8",
        "outputId": "f39e155f-7bb0-4786-ec7f-d45734d46d26"
      },
      "execution_count": null,
      "outputs": [
        {
          "output_type": "stream",
          "name": "stdout",
          "text": [
            "[27, 30, 32, 35, 40, 45] Respuesta:  [80.6, 86.0, 89.6, 95.0, 104.0, 113.0]\n"
          ]
        }
      ]
    },
    {
      "cell_type": "code",
      "source": [
        "gradosf = [80.6, 86, 89.6, 95, 104, 113]"
      ],
      "metadata": {
        "id": "ETQT8o-CRztI"
      },
      "execution_count": null,
      "outputs": []
    },
    {
      "cell_type": "code",
      "source": [
        "def convertirFaC(f):\n",
        "  return (f-32) * 5/9"
      ],
      "metadata": {
        "id": "ERyIePrsR33s"
      },
      "execution_count": null,
      "outputs": []
    },
    {
      "cell_type": "code",
      "source": [
        "print(gradosf, \" Respuesta: \", list(map(convertirFaC, gradosf)) )"
      ],
      "metadata": {
        "colab": {
          "base_uri": "https://localhost:8080/"
        },
        "id": "qpFzyJO9R7yT",
        "outputId": "9e6f5597-0b16-4f96-c6b9-0d6189bcf71d"
      },
      "execution_count": null,
      "outputs": [
        {
          "output_type": "stream",
          "name": "stdout",
          "text": [
            "[80.6, 86, 89.6, 95, 104, 113]  Respuesta:  [26.999999999999996, 30.0, 32.0, 35.0, 40.0, 45.0]\n"
          ]
        }
      ]
    },
    {
      "cell_type": "code",
      "source": [
        "print(gradosf, \" Respuesta: \", list(map(lambda f: (f-32)*5/9, gradosf)) )"
      ],
      "metadata": {
        "colab": {
          "base_uri": "https://localhost:8080/"
        },
        "id": "04NibfxSSAAT",
        "outputId": "7594e2f9-7639-4b6b-9885-3cefb7c5cd99"
      },
      "execution_count": null,
      "outputs": [
        {
          "output_type": "stream",
          "name": "stdout",
          "text": [
            "[80.6, 86, 89.6, 95, 104, 113]  Respuesta:  [26.999999999999996, 30.0, 32.0, 35.0, 40.0, 45.0]\n"
          ]
        }
      ]
    },
    {
      "cell_type": "markdown",
      "source": [
        "TAREA: Hacer un algoritmo en python que convierta de grados Celsius a Kelvin, usando funciones de usuario "
      ],
      "metadata": {
        "id": "JffXyg2US-8_"
      }
    },
    {
      "cell_type": "code",
      "source": [
        "cel = float(input(\"INGRESE LOS GRADOS CELSIUS PARA CONVERTILOS EN GRADOS KELVIN: \"))"
      ],
      "metadata": {
        "colab": {
          "base_uri": "https://localhost:8080/"
        },
        "id": "ILDLmecMTDL7",
        "outputId": "5775b664-dbb3-41a7-e5b3-f575ce167e37"
      },
      "execution_count": null,
      "outputs": [
        {
          "name": "stdout",
          "output_type": "stream",
          "text": [
            "INGRESE LOS GRADOS CELSIUS PARA CONVERTILOS EN GRADOS KELVIN: 30\n"
          ]
        }
      ]
    },
    {
      "cell_type": "code",
      "source": [
        "def CaK(cel):\n",
        "  resultado= cel+273.15 \n",
        "  return resultado"
      ],
      "metadata": {
        "id": "1Hdmm27fTSLw"
      },
      "execution_count": null,
      "outputs": []
    },
    {
      "cell_type": "code",
      "source": [
        "print(CaK(cel))"
      ],
      "metadata": {
        "colab": {
          "base_uri": "https://localhost:8080/"
        },
        "id": "scLUcLMwTWTr",
        "outputId": "1773dc37-bad2-46fe-f511-1aa2fd7d652e"
      },
      "execution_count": null,
      "outputs": [
        {
          "output_type": "stream",
          "name": "stdout",
          "text": [
            "303.15\n"
          ]
        }
      ]
    },
    {
      "cell_type": "markdown",
      "source": [
        "Hacer un algoritmo en python que convierta de grados Kelvin a Celsius, usando funciones de usuario"
      ],
      "metadata": {
        "id": "5apz_kIjTmsY"
      }
    },
    {
      "cell_type": "code",
      "source": [
        "kel = float(input(\"INGRESE LOS GRADOS KELVIN PARA CONVERTILOS EN GRADOS CELSIUS: \"))"
      ],
      "metadata": {
        "colab": {
          "base_uri": "https://localhost:8080/"
        },
        "id": "yPZY5ju1U7rl",
        "outputId": "93832afa-06bc-4b84-a59b-d29aed89cde9"
      },
      "execution_count": null,
      "outputs": [
        {
          "name": "stdout",
          "output_type": "stream",
          "text": [
            "INGRESE LOS GRADOS KELVIN PARA CONVERTILOS EN GRADOS CELSIUS: 303.15\n"
          ]
        }
      ]
    },
    {
      "cell_type": "code",
      "source": [
        "def KaC(kel):\n",
        "  resultado= kel-273.15 \n",
        "  return resultado"
      ],
      "metadata": {
        "id": "Hg1CqRrSU8dO"
      },
      "execution_count": null,
      "outputs": []
    },
    {
      "cell_type": "code",
      "source": [
        "print(KaC(kel))"
      ],
      "metadata": {
        "colab": {
          "base_uri": "https://localhost:8080/"
        },
        "id": "_moa7HOIVAQd",
        "outputId": "9ce89495-af39-4957-b9dc-b46539c2bbcb"
      },
      "execution_count": null,
      "outputs": [
        {
          "output_type": "stream",
          "name": "stdout",
          "text": [
            "30.0\n"
          ]
        }
      ]
    },
    {
      "cell_type": "markdown",
      "source": [
        "Hacer un algoritmo en python que convierta de grados Celsius a Kelvin, usando lambda"
      ],
      "metadata": {
        "id": "XU4qoVUSVv02"
      }
    },
    {
      "cell_type": "code",
      "source": [
        "conversionCaK = lambda cel: cel+273.15"
      ],
      "metadata": {
        "id": "rrjsRYObVzdX"
      },
      "execution_count": null,
      "outputs": []
    },
    {
      "cell_type": "code",
      "source": [
        "Gcelsius=float(input(\"INGRESE LOS GRADOS CELSIUS PARA REALIZAR LA CONVERSION A GRADOS KELVIN: \"))"
      ],
      "metadata": {
        "colab": {
          "base_uri": "https://localhost:8080/"
        },
        "id": "r8fiMqWwV4fP",
        "outputId": "f48f2e25-3545-4651-a632-8bc30d206a9c"
      },
      "execution_count": null,
      "outputs": [
        {
          "name": "stdout",
          "output_type": "stream",
          "text": [
            "INGRESE LOS GRADOS CELSIUS PARA REALIZAR LA CONVERSION A GRADOS KELVIN: 30\n"
          ]
        }
      ]
    },
    {
      "cell_type": "code",
      "source": [
        "print(conversionCaK(Gcelsius))"
      ],
      "metadata": {
        "colab": {
          "base_uri": "https://localhost:8080/"
        },
        "id": "s-GX1bMVV_zl",
        "outputId": "34b057e8-b122-4b3d-d6bd-d00386c816cf"
      },
      "execution_count": null,
      "outputs": [
        {
          "output_type": "stream",
          "name": "stdout",
          "text": [
            "303.15\n"
          ]
        }
      ]
    },
    {
      "cell_type": "markdown",
      "source": [
        "Hacer un algoritmo en python que convierta de grados Kelvin a Celsius, usando lambda"
      ],
      "metadata": {
        "id": "danvR5oxWTrK"
      }
    },
    {
      "cell_type": "code",
      "source": [
        "conversionKaC = lambda kelvin: kelvin-273.15"
      ],
      "metadata": {
        "id": "sRfzFLsbWq6q"
      },
      "execution_count": null,
      "outputs": []
    },
    {
      "cell_type": "code",
      "source": [
        "Gkelvin=float(input(\"INGRESE LOS GRADOS KELVIN PARA REALIZAR LA CONVERSION A GRADOS CELSIUS: \"))"
      ],
      "metadata": {
        "colab": {
          "base_uri": "https://localhost:8080/"
        },
        "id": "bsgCpg1uWVvP",
        "outputId": "777fd81e-30ff-4bd4-87fb-bfbf8869cbbc"
      },
      "execution_count": null,
      "outputs": [
        {
          "name": "stdout",
          "output_type": "stream",
          "text": [
            "INGRESE LOS GRADOS KELVIN PARA REALIZAR LA CONVERSION A GRADOS CELSIUS: 303.15\n"
          ]
        }
      ]
    },
    {
      "cell_type": "code",
      "source": [
        "print(conversionKaC(Gkelvin))"
      ],
      "metadata": {
        "colab": {
          "base_uri": "https://localhost:8080/"
        },
        "id": "TuPmV7dmWsUf",
        "outputId": "00f71875-a1e2-4714-f609-a50f667f1ce4"
      },
      "execution_count": null,
      "outputs": [
        {
          "output_type": "stream",
          "name": "stdout",
          "text": [
            "30.0\n"
          ]
        }
      ]
    },
    {
      "cell_type": "markdown",
      "source": [
        "Hacer un algoritmo en python que encuentre la Nota Final de Ciclo de una Materia en Particular usando funciones de usuario "
      ],
      "metadata": {
        "id": "A0ECa9EDW9lZ"
      }
    },
    {
      "cell_type": "code",
      "source": [
        "print(\"Ingrese sus notas del computo1\")"
      ],
      "metadata": {
        "colab": {
          "base_uri": "https://localhost:8080/"
        },
        "id": "WOoSTOk4W_aL",
        "outputId": "2e9145ef-7bad-46e0-ca0c-b74b0f6ea9fa"
      },
      "execution_count": null,
      "outputs": [
        {
          "output_type": "stream",
          "name": "stdout",
          "text": [
            "Ingrese sus notas del computo1\n"
          ]
        }
      ]
    },
    {
      "cell_type": "code",
      "source": [
        "lab1comp1=float(input())"
      ],
      "metadata": {
        "colab": {
          "base_uri": "https://localhost:8080/"
        },
        "id": "cN4MjakIXLRs",
        "outputId": "14a299c8-8226-45dc-b089-3d0609fe6dd1"
      },
      "execution_count": null,
      "outputs": [
        {
          "name": "stdout",
          "output_type": "stream",
          "text": [
            "10\n"
          ]
        }
      ]
    },
    {
      "cell_type": "code",
      "source": [
        "lab2comp1=float(input())"
      ],
      "metadata": {
        "colab": {
          "base_uri": "https://localhost:8080/"
        },
        "id": "JQQtBozDXPQK",
        "outputId": "99e47efb-ae89-45f7-b37c-4b07ca6a70e0"
      },
      "execution_count": null,
      "outputs": [
        {
          "name": "stdout",
          "output_type": "stream",
          "text": [
            "10\n"
          ]
        }
      ]
    },
    {
      "cell_type": "code",
      "source": [
        "parcialcomp1=float(input())"
      ],
      "metadata": {
        "colab": {
          "base_uri": "https://localhost:8080/"
        },
        "id": "f63HkHFqXWFG",
        "outputId": "dd562148-86c3-404b-e034-55b587dffaa7"
      },
      "execution_count": null,
      "outputs": [
        {
          "name": "stdout",
          "output_type": "stream",
          "text": [
            "9.5\n"
          ]
        }
      ]
    },
    {
      "cell_type": "code",
      "source": [
        "print(\"Ingrese sus notas del computo2\")"
      ],
      "metadata": {
        "colab": {
          "base_uri": "https://localhost:8080/"
        },
        "id": "isY3dUwnXfU_",
        "outputId": "fa9765d3-aa9d-4dda-8798-7875dea3fc37"
      },
      "execution_count": null,
      "outputs": [
        {
          "output_type": "stream",
          "name": "stdout",
          "text": [
            "Ingrese sus notas del computo2\n"
          ]
        }
      ]
    },
    {
      "cell_type": "code",
      "source": [
        "lab1comp2=float(input()) "
      ],
      "metadata": {
        "colab": {
          "base_uri": "https://localhost:8080/"
        },
        "id": "R1S1Ii8ZXkUq",
        "outputId": "cf674501-23c8-4256-df3e-3d685f7d2b95"
      },
      "execution_count": null,
      "outputs": [
        {
          "name": "stdout",
          "output_type": "stream",
          "text": [
            "10\n"
          ]
        }
      ]
    },
    {
      "cell_type": "code",
      "source": [
        "lab2comp2=float(input())"
      ],
      "metadata": {
        "colab": {
          "base_uri": "https://localhost:8080/"
        },
        "id": "d3NeTDtTYVh_",
        "outputId": "e6f7b61d-5164-4cae-a190-88a1fa9fbdd9"
      },
      "execution_count": null,
      "outputs": [
        {
          "name": "stdout",
          "output_type": "stream",
          "text": [
            "9.8\n"
          ]
        }
      ]
    },
    {
      "cell_type": "code",
      "source": [
        "parcialcomp2=float(input())"
      ],
      "metadata": {
        "colab": {
          "base_uri": "https://localhost:8080/"
        },
        "id": "_7OY0lKgYanO",
        "outputId": "073e2010-7980-43ba-9028-01a12b501f03"
      },
      "execution_count": null,
      "outputs": [
        {
          "name": "stdout",
          "output_type": "stream",
          "text": [
            "9.5\n"
          ]
        }
      ]
    },
    {
      "cell_type": "code",
      "source": [
        "print(\"Ingrese sus notas del computo3\")"
      ],
      "metadata": {
        "colab": {
          "base_uri": "https://localhost:8080/"
        },
        "id": "BuIzEPKXYodu",
        "outputId": "ad5de3b8-b885-472e-a2cb-93dd5658acf8"
      },
      "execution_count": null,
      "outputs": [
        {
          "output_type": "stream",
          "name": "stdout",
          "text": [
            "Ingrese sus notas del computo3\n"
          ]
        }
      ]
    },
    {
      "cell_type": "code",
      "source": [
        "lab1comp3=float(input())"
      ],
      "metadata": {
        "colab": {
          "base_uri": "https://localhost:8080/"
        },
        "id": "WgfTc5hYYuwx",
        "outputId": "9582ea1d-664a-47b0-8d62-fff25c48665b"
      },
      "execution_count": null,
      "outputs": [
        {
          "name": "stdout",
          "output_type": "stream",
          "text": [
            "10\n"
          ]
        }
      ]
    },
    {
      "cell_type": "code",
      "source": [
        "lab2comp3=float(input())"
      ],
      "metadata": {
        "colab": {
          "base_uri": "https://localhost:8080/"
        },
        "id": "wReNZhvhYzEv",
        "outputId": "3e46a304-1765-49fe-c020-7009f8385f3e"
      },
      "execution_count": null,
      "outputs": [
        {
          "name": "stdout",
          "output_type": "stream",
          "text": [
            "10\n"
          ]
        }
      ]
    },
    {
      "cell_type": "code",
      "source": [
        "parcialcomp3=float(input())"
      ],
      "metadata": {
        "colab": {
          "base_uri": "https://localhost:8080/"
        },
        "id": "RNvGAvq3Y1Or",
        "outputId": "fbf7c608-9661-4894-944f-1582307a123d"
      },
      "execution_count": null,
      "outputs": [
        {
          "name": "stdout",
          "output_type": "stream",
          "text": [
            "10\n"
          ]
        }
      ]
    },
    {
      "cell_type": "code",
      "source": [
        "def notas(a,b,c):\n",
        "  total=(a * 0.3) + ( b * 0.3 )+( c * 0.4)\n",
        "  return total"
      ],
      "metadata": {
        "id": "RNfH9EnqZJ0t"
      },
      "execution_count": null,
      "outputs": []
    },
    {
      "cell_type": "code",
      "source": [
        "computo1=notas(lab1comp1,lab2comp1,parcialcomp1)"
      ],
      "metadata": {
        "id": "AKPYVoNmZM_G"
      },
      "execution_count": null,
      "outputs": []
    },
    {
      "cell_type": "code",
      "source": [
        "computo2=notas(lab1comp2,lab2comp2,parcialcomp2)"
      ],
      "metadata": {
        "id": "UuMrf2eeZPvo"
      },
      "execution_count": null,
      "outputs": []
    },
    {
      "cell_type": "code",
      "source": [
        "computo3=notas(lab1comp3,lab2comp3,parcialcomp3)"
      ],
      "metadata": {
        "id": "U76rnPsDZS_Y"
      },
      "execution_count": null,
      "outputs": []
    },
    {
      "cell_type": "code",
      "source": [
        "notaFinal= (computo1 + computo2 + computo3) /3"
      ],
      "metadata": {
        "id": "-ZO9GJptZWxp"
      },
      "execution_count": null,
      "outputs": []
    },
    {
      "cell_type": "code",
      "source": [
        "print(notaFinal)"
      ],
      "metadata": {
        "colab": {
          "base_uri": "https://localhost:8080/"
        },
        "id": "kkW0dzbnZZSz",
        "outputId": "66b68908-9fc8-47f8-e65a-fc54835ef1f5"
      },
      "execution_count": null,
      "outputs": [
        {
          "output_type": "stream",
          "name": "stdout",
          "text": [
            "9.846666666666666\n"
          ]
        }
      ]
    },
    {
      "cell_type": "markdown",
      "source": [
        "Hacer un algoritmo en python que encuentre la Nota Final de Ciclo de una Materia en Particular usando  lambda."
      ],
      "metadata": {
        "id": "isboduJhaBQ1"
      }
    },
    {
      "cell_type": "code",
      "source": [
        "print(\"Ingrese sus notas de el primer computo\")\n",
        "labo1com1=float(input())\n",
        "labo2com1=float(input())\n",
        "parcial1=float(input())\n",
        "print(\"Ingrese sus notas de el segundo computo\")\n",
        "labo1com2=float(input())\n",
        "labo2com2=float(input())\n",
        "parcial2=float(input())\n",
        "print(\"Ingrese sus notas de el tercer computo\")\n",
        "labo1com3=float(input())\n",
        "labo2com3=float(input())\n",
        "parcial3=float(input())\n",
        "\n",
        "notas= lambda a,b,c: (a*0.3) + (b*0.3) + (c*0.3)\n",
        "\n",
        "comp1=notas(labo1com1,labo2com1,parcial1)\n",
        "comp2=notas(labo1com2,labo2com2,parcial2)\n",
        "comp3=notas(labo1com3,labo2com3,parcial3)\n",
        "\n",
        "notaFinal=(comp1 + comp2 + comp3) /3\n",
        "\n",
        "print(notaFinal)\n",
        "8\n",
        "\n"
      ],
      "metadata": {
        "colab": {
          "base_uri": "https://localhost:8080/"
        },
        "id": "0Pd4bibYp6u4",
        "outputId": "0122a4ba-db0d-4a77-abe7-6d8723e55eef"
      },
      "execution_count": null,
      "outputs": [
        {
          "output_type": "stream",
          "name": "stdout",
          "text": [
            "Ingrese sus notas de el primer computo\n",
            "10\n",
            "10\n",
            "10\n",
            "Ingrese sus notas de el segundo computo\n",
            "8\n",
            "4\n",
            "6\n",
            "Ingrese sus notas de el tercer computo\n",
            "6\n",
            "7\n",
            "9\n",
            "7.0\n"
          ]
        }
      ]
    },
    {
      "cell_type": "code",
      "source": [
        "edades = (2,5,12,18,65,100) #La tupl es inmutable, es decir, no podemos cambiar su valor y se declara con parenteis pero se usa con corchetes\n",
        "print( edades, \"La edad de bebe es la mejor: \", edades[0] )\n",
        "\n",
        "#edades[0] = 1, es inmutable, no se puede modificar"
      ],
      "metadata": {
        "colab": {
          "base_uri": "https://localhost:8080/"
        },
        "id": "5X6sBdjlaC1g",
        "outputId": "369f5451-e952-4a3b-a6f5-0dc980eaa926"
      },
      "execution_count": null,
      "outputs": [
        {
          "output_type": "stream",
          "name": "stdout",
          "text": [
            "(2, 5, 12, 18, 65, 100) La edad de bebe es la mejor:  2\n"
          ]
        }
      ]
    },
    {
      "cell_type": "code",
      "source": [
        "print(\"Edades: \", edades, \"Responsabilidades: \", tuple( filter(lambda e:e>=18, edades) ) )\n",
        "print(\"Edades: \", edades, \" Al cuadrado: \", tuple(map(lambda n:n**2, edades)) )"
      ],
      "metadata": {
        "colab": {
          "base_uri": "https://localhost:8080/"
        },
        "id": "HK0V_A8zazUV",
        "outputId": "ea81533a-7ead-438f-96ee-845860d7e372"
      },
      "execution_count": null,
      "outputs": [
        {
          "output_type": "stream",
          "name": "stdout",
          "text": [
            "Edades:  (2, 5, 12, 18, 65, 100) Responsabilidades:  (18, 65, 100)\n",
            "Edades:  (2, 5, 12, 18, 65, 100)  Al cuadrado:  (4, 25, 144, 324, 4225, 10000)\n"
          ]
        }
      ]
    },
    {
      "cell_type": "code",
      "source": [
        "notas = [6,8,10] #Listas, son mutables, es decir, podemos cambiar sus valores y se declaran y usan con corchetes\n",
        "print(\"Notas Originales: \", notas)\n",
        "\n",
        "notas[0] = 9\n",
        "print(\"Notas: \", notas)"
      ],
      "metadata": {
        "colab": {
          "base_uri": "https://localhost:8080/"
        },
        "id": "sZrAthEQa3Bk",
        "outputId": "08f59da1-3005-4531-b316-07613f2b7ee0"
      },
      "execution_count": null,
      "outputs": [
        {
          "output_type": "stream",
          "name": "stdout",
          "text": [
            "Notas Originales:  [6, 8, 10]\n",
            "Notas:  [9, 8, 10]\n"
          ]
        }
      ]
    },
    {
      "cell_type": "code",
      "source": [
        "notasProgra = [\n",
        "    [9,8,10], #C1\n",
        "    [10,6,9], #C2\n",
        "    [10,9,10] #C3\n",
        "]\n",
        "print(notasProgra)"
      ],
      "metadata": {
        "colab": {
          "base_uri": "https://localhost:8080/"
        },
        "id": "yvHA45hBa74o",
        "outputId": "cda6423a-2ea0-462c-9256-10e43387968b"
      },
      "execution_count": null,
      "outputs": [
        {
          "output_type": "stream",
          "name": "stdout",
          "text": [
            "[[9, 8, 10], [10, 6, 9], [10, 9, 10]]\n"
          ]
        }
      ]
    },
    {
      "cell_type": "code",
      "source": [
        "print(\"Lab2 de C1\", notasProgra[0][1] )"
      ],
      "metadata": {
        "colab": {
          "base_uri": "https://localhost:8080/"
        },
        "id": "Z2vsKQb0bAWY",
        "outputId": "d4962f7b-1322-4c89-871d-10c82cb3fb5c"
      },
      "execution_count": null,
      "outputs": [
        {
          "output_type": "stream",
          "name": "stdout",
          "text": [
            "Lab2 de C1 8\n"
          ]
        }
      ]
    },
    {
      "cell_type": "code",
      "source": [
        "notas = [\n",
        "    [ #Progra III\n",
        "      [9,8,[8,9]], #C1\n",
        "      [10,6,9], #C2\n",
        "      [10,9,10] #C3\n",
        "    ], \n",
        "    [ #Estadistica\n",
        "      [5,7,10], #C1\n",
        "      [9,8,9],  #C2\n",
        "      [10,10,10]#C3\n",
        "    ],\n",
        "    [ #BD\n",
        "      [7,8,9],  #C1\n",
        "      [9,8,7],  #C2\n",
        "      [10,9,10],#C3\n",
        "    ], \n",
        "    [ #Ingles\n",
        "      [8,9,10], #C1\n",
        "      [9,10,9], #C2\n",
        "      [10,10,10]#C3\n",
        "    ],\n",
        "    [ #Circuito Digitales\n",
        "      [5,8,7], #C1\n",
        "      [8,7,9], #C2\n",
        "      [9,10,9] #C3\n",
        "    ]\n",
        "]\n",
        "import functools\n",
        "print( \"Lab1 de Estadistica en C1\", notas[1][0][0], \"NOta de Parcial C1 de Progra III: \",functools.reduce(lambda a,b: a+b, notas[0][0][2])/2 )"
      ],
      "metadata": {
        "colab": {
          "base_uri": "https://localhost:8080/"
        },
        "id": "-izEZfW8bD1W",
        "outputId": "150968ef-5d75-492d-8127-1ae08d27e014"
      },
      "execution_count": null,
      "outputs": [
        {
          "output_type": "stream",
          "name": "stdout",
          "text": [
            "Lab1 de Estadistica en C1 5 NOta de Parcial C1 de Progra III:  8.5\n"
          ]
        }
      ]
    },
    {
      "cell_type": "code",
      "source": [
        "#diccionarios (JSON): Se declaran con llaves pero se usan con corchetes\n",
        "misNotas = {\n",
        "    \"Programa III\":{\n",
        "        \"C1\": {\n",
        "          \"Lab1\":9,\"Lab2\":8, \"Parcial\":{\"ParteI\":8, \"ParteII\":9}\n",
        "        },\n",
        "        \"C2\":{\n",
        "          \"Lab1\":10,\"Lab2\":6, \"Parcial\":9\n",
        "        },\n",
        "        \"C3\":{\n",
        "          \"Lab1\":10,\"Lab2\":6, \"Parcial\":9\n",
        "        }\n",
        "    },\"Estadistica\":{\n",
        "        \"C1\": {\n",
        "          \"Lab1\":5,\"Lab2\":7, \"Parcial\":10\n",
        "        },\n",
        "        \"C2\":{\n",
        "          \"Lab1\":9,\"Lab2\":8, \"Parcial\":9\n",
        "        },\n",
        "        \"C3\":{\n",
        "          \"Lab1\":10,\"Lab2\":10, \"Parcial\":10\n",
        "        }\n",
        "    }, \"BD\":{\n",
        "        \"C1\": {\n",
        "          \"Lab1\":7,\"Lab2\":8, \"Parcial\":9\n",
        "        },\n",
        "        \"C2\":{\n",
        "          \"Lab1\":9,\"Lab2\":8, \"Parcial\":7\n",
        "        },\n",
        "        \"C3\":{\n",
        "          \"Lab1\":10,\"Lab2\":9, \"Parcial\":10\n",
        "        }\n",
        "    }, \"Ingles\":{\n",
        "        \"C1\": {\n",
        "          \"Lab1\":8,\"Lab2\":9, \"Parcial\":10\n",
        "        },\n",
        "        \"C2\":{\n",
        "          \"Lab1\":9,\"Lab2\":10, \"Parcial\":9\n",
        "        },\n",
        "        \"C3\":{\n",
        "          \"Lab1\":10,\"Lab2\":10, \"Parcial\":10\n",
        "        }\n",
        "    }, \"Circuitos Digitales\":{\n",
        "        \"C1\": {\n",
        "          \"Lab1\":5,\"Lab2\":8, \"Parcial\":7\n",
        "        },\n",
        "        \"C2\":{\n",
        "          \"Lab1\":8,\"Lab2\":7, \"Parcial\":9\n",
        "        },\n",
        "        \"C3\":{\n",
        "          \"Lab1\":9,\"Lab2\":10, \"Parcial\":9\n",
        "        }\n",
        "    }\n",
        "}\n",
        "print(\"Lab1 en C1 de Estadistica: \", misNotas[\"Estadistica\"][\"C1\"][\"Lab1\"])\n",
        "misNotas[\"Estadistica\"][\"C1\"][\"Lab1\"] = float(input(\"Lab1: \"))\n",
        "print(\"Lab1 en C1 de Estadistica: \", misNotas[\"Estadistica\"][\"C1\"][\"Lab1\"])"
      ],
      "metadata": {
        "colab": {
          "base_uri": "https://localhost:8080/"
        },
        "id": "bbhIJEtebQtN",
        "outputId": "b4e07cf1-593e-4303-8ed9-39d75be9d7dc"
      },
      "execution_count": null,
      "outputs": [
        {
          "output_type": "stream",
          "name": "stdout",
          "text": [
            "Lab1 en C1 de Estadistica:  5\n",
            "Lab1: 10\n",
            "Lab1 en C1 de Estadistica:  10.0\n"
          ]
        }
      ]
    },
    {
      "cell_type": "code",
      "source": [
        "edad = int(input(\"Dime tu edad: \"))\n",
        "if(edad<=2):\n",
        "  print(\"Eres un bebe\")\n",
        "elif(edad<12):\n",
        "  print(\"Eres un niño\")\n",
        "elif( edad<18 ):\n",
        "  print(\"Eres un adolescente\")\n",
        "elif( edad<=55 ):\n",
        "  print(\"Eres un adulto joven\")\n",
        "elif(edad<=65):\n",
        "  print(\"Eres un Adulto\")\n",
        "elif(edad<=85):\n",
        "  print(\"Eres un adulto mayor\")\n",
        "elif(edad<=130):\n",
        "  print(\"Larga vidad...\")\n",
        "else:\n",
        "  print(\"Edad incorrecto\")\n",
        "print(\"Termino\")"
      ],
      "metadata": {
        "colab": {
          "base_uri": "https://localhost:8080/"
        },
        "id": "zg88oGXQbb6E",
        "outputId": "a9390116-2abc-4458-ec5d-f9d0186de4fd"
      },
      "execution_count": null,
      "outputs": [
        {
          "output_type": "stream",
          "name": "stdout",
          "text": [
            "Dime tu edad: 50\n",
            "Eres un adulto joven\n",
            "Termino\n"
          ]
        }
      ]
    },
    {
      "cell_type": "code",
      "source": [
        "#hacer un programa que genera la tabla de multiplicar de x numero ingreso por el usuario\n",
        "nt = int(input(\"Dime la tabla de multiplicar a generar: \"))\n",
        "i=1\n",
        "while i<=10:\n",
        "  print( nt,\"X\",i,\"=\", nt*i )\n",
        "  i+=1"
      ],
      "metadata": {
        "colab": {
          "base_uri": "https://localhost:8080/"
        },
        "id": "GWL6bQ0dbvu8",
        "outputId": "100c7a53-8bf8-4fa8-ca1a-6c1058f77311"
      },
      "execution_count": null,
      "outputs": [
        {
          "output_type": "stream",
          "name": "stdout",
          "text": [
            "Dime la tabla de multiplicar a generar: 4\n",
            "4 X 1 = 4\n",
            "4 X 2 = 8\n",
            "4 X 3 = 12\n",
            "4 X 4 = 16\n",
            "4 X 5 = 20\n",
            "4 X 6 = 24\n",
            "4 X 7 = 28\n",
            "4 X 8 = 32\n",
            "4 X 9 = 36\n",
            "4 X 10 = 40\n"
          ]
        }
      ]
    },
    {
      "cell_type": "code",
      "source": [
        "#hacer un programa que genera la tabla de multiplicar de x numero ingreso por el usuario\n",
        "nt = int(input(\"Dime la tabla que deseas generar: \"))\n",
        "for i in range(1,11): #i<11\n",
        "  print(nt,\"X\",i,\"=\", nt*i)"
      ],
      "metadata": {
        "colab": {
          "base_uri": "https://localhost:8080/"
        },
        "id": "uDJf8mZ1b1fS",
        "outputId": "0bd67589-ec55-4c63-e8ed-ab54d020175f"
      },
      "execution_count": null,
      "outputs": [
        {
          "output_type": "stream",
          "name": "stdout",
          "text": [
            "Dime la tabla que deseas generar: 4\n",
            "4 X 1 = 4\n",
            "4 X 2 = 8\n",
            "4 X 3 = 12\n",
            "4 X 4 = 16\n",
            "4 X 5 = 20\n",
            "4 X 6 = 24\n",
            "4 X 7 = 28\n",
            "4 X 8 = 32\n",
            "4 X 9 = 36\n",
            "4 X 10 = 40\n"
          ]
        }
      ]
    },
    {
      "cell_type": "code",
      "source": [
        "#hacer un programa que genera la tabla de multiplicar de x numero ingreso por el usuario\n",
        "s = \"s\"\n",
        "while s==\"s\":\n",
        "  nt = int(input(\"Dime una tabla: \"))\n",
        "  for i in range(1, 11):\n",
        "    print(nt, \"X\",i,\"=\", nt*i)\n",
        "  s = input(\"Desea continua presione la tecla s, sino cualquier otra\")"
      ],
      "metadata": {
        "colab": {
          "base_uri": "https://localhost:8080/"
        },
        "id": "Rb53cHWdcIoE",
        "outputId": "ea6411a2-3ff9-425c-ee91-bbc24c41ca86"
      },
      "execution_count": null,
      "outputs": [
        {
          "name": "stdout",
          "output_type": "stream",
          "text": [
            "Dime una tabla: 5\n",
            "5 X 1 = 5\n",
            "5 X 2 = 10\n",
            "5 X 3 = 15\n",
            "5 X 4 = 20\n",
            "5 X 5 = 25\n",
            "5 X 6 = 30\n",
            "5 X 7 = 35\n",
            "5 X 8 = 40\n",
            "5 X 9 = 45\n",
            "5 X 10 = 50\n",
            "Desea continua presione la tecla s, sino cualquier otras\n",
            "Dime una tabla: 6\n",
            "6 X 1 = 6\n",
            "6 X 2 = 12\n",
            "6 X 3 = 18\n",
            "6 X 4 = 24\n",
            "6 X 5 = 30\n",
            "6 X 6 = 36\n",
            "6 X 7 = 42\n",
            "6 X 8 = 48\n",
            "6 X 9 = 54\n",
            "6 X 10 = 60\n",
            "Desea continua presione la tecla s, sino cualquier otran\n"
          ]
        }
      ]
    },
    {
      "cell_type": "code",
      "source": [
        "#conversores\n",
        "etiquetas = [\n",
        "    0,\n",
        "    [\"Seleccione un moneda\", \"1. Dolar\", \"2. Colon SV\", \"3. Quetzal\", \"4. Lempira\", \"5. Cordoba\"],\n",
        "    [\"Selecione un almacenamiento\", \"1. MegaByte\", \"2. Bit\", \"3. Byte\", \"4. KiloByte\", \"5. GigaByte\"]\n",
        "    ,3,4,5]\n",
        "\n",
        "valores = [0,\n",
        "  [0,1, 8.75, 7.73, 24.49, 35.96],\n",
        "  [0,1, 8388608, 1048576, 1024, 0.0009765625]  \n",
        "]"
      ],
      "metadata": {
        "id": "gWRV_IUUcRCS"
      },
      "execution_count": null,
      "outputs": []
    },
    {
      "cell_type": "code",
      "source": [
        "def convertir(opcion, de, a, cantidad):\n",
        "  return valores[opcion][a] / valores[opcion][de] * cantidad"
      ],
      "metadata": {
        "id": "o-1orOc6cXt1"
      },
      "execution_count": null,
      "outputs": []
    },
    {
      "cell_type": "code",
      "source": [
        "print(\"** MENU **\")\n",
        "print(\"1. Monedas\")\n",
        "print(\"2. Almacenamiento\")\n",
        "opcion = int(input(\"Opcion: \"))\n",
        "\n",
        "print( etiquetas[opcion] )\n",
        "de = int(input(\"DE: \"))\n",
        "a = int(input(\"A: \"))\n",
        "cantidad = float(input(\"Cantidad: \"))\n",
        "\n",
        "print( etiquetas[opcion][de], \" en \", etiquetas[opcion][a], \" equivale a: \", convertir(opcion, de, a, cantidad) )"
      ],
      "metadata": {
        "colab": {
          "base_uri": "https://localhost:8080/"
        },
        "id": "2znp_z-SccTZ",
        "outputId": "0825469a-4a73-441e-b279-5aa2cc6799fd"
      },
      "execution_count": null,
      "outputs": [
        {
          "output_type": "stream",
          "name": "stdout",
          "text": [
            "** MENU **\n",
            "1. Monedas\n",
            "2. Almacenamiento\n",
            "Opcion: 2\n",
            "['Selecione un almacenamiento', '1. MegaByte', '2. Bit', '3. Byte', '4. KiloByte', '5. GigaByte']\n",
            "DE: 3\n",
            "A: 2\n",
            "Cantidad: 1\n",
            "3. Byte  en  2. Bit  equivale a:  8.0\n"
          ]
        }
      ]
    },
    {
      "cell_type": "code",
      "source": [
        "print(\"Ingrese sus notas de el primer computo\")\n",
        "labo1com1=float(input())\n",
        "labo2com2=float(input())\n",
        "parcial1=float(input())\n",
        "print(\"Ingrese sus notas de el primer computo\")"
      ],
      "metadata": {
        "id": "utjuD3JdoK-d"
      },
      "execution_count": null,
      "outputs": []
    },
    {
      "cell_type": "code",
      "source": [
        "#POLIMORFISMO\n",
        "#el polimorfismo lo tiene el signo (objeto) +\n",
        "nombre = \"Luis Hernandez\"\n",
        "saludo = \"Hola \" + nombre\n",
        "print(saludo)\n",
        "\n",
        "num1 = 5\n",
        "num2 = 4.6\n",
        "resp = num1 + num2\n",
        "mensaje = \"Respuesta \"+ str(resp)\n",
        "print(mensaje)\n",
        "\n",
        "#VB\n",
        "#num1 = 5 #Asignacion\n",
        "#if num1=5: #comparacion\n",
        "#  print(\"La variable num1 es igual a 5\")"
      ],
      "metadata": {
        "id": "hPZL0y_OJKSd",
        "outputId": "274a2cb9-a9b6-40c6-c27f-0b89a9c2f1fa",
        "colab": {
          "base_uri": "https://localhost:8080/"
        }
      },
      "execution_count": null,
      "outputs": [
        {
          "output_type": "stream",
          "name": "stdout",
          "text": [
            "Hola Luis Hernandez\n",
            "Respuesta 9.6\n"
          ]
        }
      ]
    },
    {
      "cell_type": "code",
      "source": [
        "!pip --version\n",
        "!pip -V"
      ],
      "metadata": {
        "id": "9FWk4K8eJSHK",
        "outputId": "12c28097-d6a3-43b9-d464-7702c68660b0",
        "colab": {
          "base_uri": "https://localhost:8080/"
        }
      },
      "execution_count": null,
      "outputs": [
        {
          "output_type": "stream",
          "name": "stdout",
          "text": [
            "pip 21.1.3 from /usr/local/lib/python3.7/dist-packages/pip (python 3.7)\n",
            "pip 21.1.3 from /usr/local/lib/python3.7/dist-packages/pip (python 3.7)\n"
          ]
        }
      ]
    },
    {
      "cell_type": "code",
      "source": [
        "lenguajes = [\"VB\",\"C#\",\"JAVA\",\"XML\",\"PYTHON\",\"PHP\",\"HTML\",\"JS\",\"CSS\"]\n",
        "#print( len(lenguajes), lenguajes.count(\"VB\") )\n",
        "print(lenguajes[2])\n",
        "#for lenguaje in lenguajes:\n",
        "#  print(lenguaje)"
      ],
      "metadata": {
        "id": "lcQLnrctJUmc",
        "outputId": "3bc8b84b-f78f-450e-d0ff-a7e3806dba3e",
        "colab": {
          "base_uri": "https://localhost:8080/"
        }
      },
      "execution_count": null,
      "outputs": [
        {
          "output_type": "stream",
          "name": "stdout",
          "text": [
            "JAVA\n"
          ]
        }
      ]
    },
    {
      "cell_type": "code",
      "source": [
        "lenguajes = {\n",
        "    \"fundamentos\":\"VB\",\n",
        "    \"programacion_i\"  : \"C#\",\n",
        "    \"programacion_ii\" : [\"JAVA\", \"XML\"],\n",
        "    \"programacion_iii\": [\"PYTHON\", \"HTML\", \"JS\", \"CSS\"],\n",
        "    \"programacion)iv\" : [\"PHP\", \"HTML\", \"JS\", \"CSS\"]\n",
        "}\n",
        "#print( len(lenguajes[\"programacion_iii\"]) )\n",
        "for key in lenguajes:\n",
        "  print( lenguajes[key], type(lenguajes[key]) )"
      ],
      "metadata": {
        "id": "Qv9q8TJeJWp4",
        "outputId": "19653574-625d-4e73-d1d6-54462509985a",
        "colab": {
          "base_uri": "https://localhost:8080/"
        }
      },
      "execution_count": null,
      "outputs": [
        {
          "output_type": "stream",
          "name": "stdout",
          "text": [
            "VB <class 'str'>\n",
            "C# <class 'str'>\n",
            "['JAVA', 'XML'] <class 'list'>\n",
            "['PYTHON', 'HTML', 'JS', 'CSS'] <class 'list'>\n",
            "['PHP', 'HTML', 'JS', 'CSS'] <class 'list'>\n"
          ]
        }
      ]
    },
    {
      "cell_type": "code",
      "source": [
        "#Libreraria pandas\n",
        "import pandas as pd"
      ],
      "metadata": {
        "id": "-jplJh_uJYrY"
      },
      "execution_count": null,
      "outputs": []
    },
    {
      "cell_type": "code",
      "source": [
        "lenguajes = pd.Series(\n",
        "    [\"VB\",\"C#\",\"JAVA\",\"XML\",\"PYTHON\",\"PHP\",\"HTML\",\"JS\",\"CSS\"],\n",
        "    index=[5,1,2,2,3,4,4,4,4]\n",
        ")\n",
        "print(lenguajes[2])"
      ],
      "metadata": {
        "id": "Nf0R-JHmJaUM",
        "outputId": "596e563c-3836-405d-8b9c-8760095eb3b2",
        "colab": {
          "base_uri": "https://localhost:8080/"
        }
      },
      "execution_count": null,
      "outputs": [
        {
          "output_type": "stream",
          "name": "stdout",
          "text": [
            "2    JAVA\n",
            "2     XML\n",
            "dtype: object\n"
          ]
        }
      ]
    },
    {
      "cell_type": "code",
      "source": [
        "lenguajes = {\n",
        "    \"fundamentos\":\"VB\",\n",
        "    1:\"C#\",\n",
        "    2:\"JAVA\"\n",
        "}\n",
        "pdLenguajes = pd.Series(lenguajes)\n",
        "print(pdLenguajes[\"fundamentos\"])"
      ],
      "metadata": {
        "id": "DdPD4w6rJcYC",
        "outputId": "f412a5da-8c82-471f-9931-9947707a7a39",
        "colab": {
          "base_uri": "https://localhost:8080/"
        }
      },
      "execution_count": null,
      "outputs": [
        {
          "output_type": "stream",
          "name": "stdout",
          "text": [
            "VB\n"
          ]
        }
      ]
    },
    {
      "cell_type": "code",
      "source": [
        "import pandas as pd\n",
        "import matplotlib.pyplot as plt"
      ],
      "metadata": {
        "id": "AegliOpeJeHo"
      },
      "execution_count": null,
      "outputs": []
    },
    {
      "cell_type": "code",
      "source": [
        "notas = pd.read_csv(\"/content/notas.csv\", sep= \";\")\n",
        "print(notas)"
      ],
      "metadata": {
        "id": "WCesx0oCJguY",
        "outputId": "99d9806e-ba5c-49ce-f546-67210039933d",
        "colab": {
          "base_uri": "https://localhost:8080/"
        }
      },
      "execution_count": null,
      "outputs": [
        {
          "output_type": "stream",
          "name": "stdout",
          "text": [
            "        alumnos,notas\n",
            "0  mario alexander,10\n",
            "1     jose carlos,9.5\n",
            "2  rosario martinez,9\n",
            "3   nathaly milena,10\n",
            "4   ana maria perez,2\n",
            "5    jose alexander,6\n",
            "6        juan pablo,1\n",
            "7        mario ruiz,4\n"
          ]
        }
      ]
    },
    {
      "cell_type": "code",
      "source": [
        "sobresalientes = notas.loc[notas[\"notas\"]>=9]\n",
        "print(sobresalientes)\n",
        "\n",
        "sobresalientes.to_csv(\"/content/sobresalientes.csv\", sep=\";\")"
      ],
      "metadata": {
        "id": "hBI6spvRJq-3"
      },
      "execution_count": null,
      "outputs": []
    },
    {
      "cell_type": "code",
      "source": [
        "reprobados = notas.loc[notas[\"notas\"]<6]\n",
        "print(reprobados)\n",
        "\n",
        "reprobados.to_csv(\"/content/reprobados.csv\", sep=\";\")"
      ],
      "metadata": {
        "id": "tVKriSYvJrfk"
      },
      "execution_count": null,
      "outputs": []
    },
    {
      "cell_type": "code",
      "source": [
        "count_reprobados = notas.loc[notas[\"notas\"]<6].agg({\"count\"})\n",
        "print(count_reprobados)\n",
        "\n",
        "count_reprobados.to_csv(\"/content/count_reprobados.csv\", sep=\";\")"
      ],
      "metadata": {
        "id": "c5gdmjR7JtfU"
      },
      "execution_count": null,
      "outputs": []
    },
    {
      "cell_type": "code",
      "source": [
        "tabla_sobresaliente = pd.crosstab(index=sobresalientes[\"notas\"], columns=\"fr\")\n",
        "plt.bar(sobresalientes[\"alumnos\"], sobresalientes[\"notas\"])\n",
        "plt.xlabel(\"Cantidad de estudiantes con buena nota\")\n",
        "plt.show()\n",
        "sobresalientes"
      ],
      "metadata": {
        "id": "yhjCAzSIJv6a"
      },
      "execution_count": null,
      "outputs": []
    },
    {
      "cell_type": "code",
      "source": [
        "!pip install tensorflow"
      ],
      "metadata": {
        "id": "dYNv0TGR7v-p",
        "outputId": "fb7d73e0-b33d-4ebc-9a93-bfb26483b70a",
        "colab": {
          "base_uri": "https://localhost:8080/"
        }
      },
      "execution_count": null,
      "outputs": [
        {
          "output_type": "stream",
          "name": "stdout",
          "text": [
            "Looking in indexes: https://pypi.org/simple, https://us-python.pkg.dev/colab-wheels/public/simple/\n",
            "Requirement already satisfied: tensorflow in /usr/local/lib/python3.7/dist-packages (2.8.2+zzzcolab20220719082949)\n",
            "Requirement already satisfied: termcolor>=1.1.0 in /usr/local/lib/python3.7/dist-packages (from tensorflow) (1.1.0)\n",
            "Requirement already satisfied: keras<2.9,>=2.8.0rc0 in /usr/local/lib/python3.7/dist-packages (from tensorflow) (2.8.0)\n",
            "Requirement already satisfied: google-pasta>=0.1.1 in /usr/local/lib/python3.7/dist-packages (from tensorflow) (0.2.0)\n",
            "Requirement already satisfied: grpcio<2.0,>=1.24.3 in /usr/local/lib/python3.7/dist-packages (from tensorflow) (1.48.1)\n",
            "Requirement already satisfied: gast>=0.2.1 in /usr/local/lib/python3.7/dist-packages (from tensorflow) (0.5.3)\n",
            "Requirement already satisfied: protobuf<3.20,>=3.9.2 in /usr/local/lib/python3.7/dist-packages (from tensorflow) (3.17.3)\n",
            "Requirement already satisfied: tensorflow-estimator<2.9,>=2.8 in /usr/local/lib/python3.7/dist-packages (from tensorflow) (2.8.0)\n",
            "Requirement already satisfied: absl-py>=0.4.0 in /usr/local/lib/python3.7/dist-packages (from tensorflow) (1.2.0)\n",
            "Requirement already satisfied: tensorflow-io-gcs-filesystem>=0.23.1 in /usr/local/lib/python3.7/dist-packages (from tensorflow) (0.26.0)\n",
            "Requirement already satisfied: typing-extensions>=3.6.6 in /usr/local/lib/python3.7/dist-packages (from tensorflow) (4.1.1)\n",
            "Requirement already satisfied: h5py>=2.9.0 in /usr/local/lib/python3.7/dist-packages (from tensorflow) (3.1.0)\n",
            "Requirement already satisfied: setuptools in /usr/local/lib/python3.7/dist-packages (from tensorflow) (57.4.0)\n",
            "Requirement already satisfied: libclang>=9.0.1 in /usr/local/lib/python3.7/dist-packages (from tensorflow) (14.0.6)\n",
            "Requirement already satisfied: tensorboard<2.9,>=2.8 in /usr/local/lib/python3.7/dist-packages (from tensorflow) (2.8.0)\n",
            "Requirement already satisfied: numpy>=1.20 in /usr/local/lib/python3.7/dist-packages (from tensorflow) (1.21.6)\n",
            "Requirement already satisfied: wrapt>=1.11.0 in /usr/local/lib/python3.7/dist-packages (from tensorflow) (1.14.1)\n",
            "Requirement already satisfied: six>=1.12.0 in /usr/local/lib/python3.7/dist-packages (from tensorflow) (1.15.0)\n",
            "Requirement already satisfied: flatbuffers>=1.12 in /usr/local/lib/python3.7/dist-packages (from tensorflow) (2.0.7)\n",
            "Requirement already satisfied: astunparse>=1.6.0 in /usr/local/lib/python3.7/dist-packages (from tensorflow) (1.6.3)\n",
            "Requirement already satisfied: keras-preprocessing>=1.1.1 in /usr/local/lib/python3.7/dist-packages (from tensorflow) (1.1.2)\n",
            "Requirement already satisfied: opt-einsum>=2.3.2 in /usr/local/lib/python3.7/dist-packages (from tensorflow) (3.3.0)\n",
            "Requirement already satisfied: wheel<1.0,>=0.23.0 in /usr/local/lib/python3.7/dist-packages (from astunparse>=1.6.0->tensorflow) (0.37.1)\n",
            "Requirement already satisfied: cached-property in /usr/local/lib/python3.7/dist-packages (from h5py>=2.9.0->tensorflow) (1.5.2)\n",
            "Requirement already satisfied: requests<3,>=2.21.0 in /usr/local/lib/python3.7/dist-packages (from tensorboard<2.9,>=2.8->tensorflow) (2.23.0)\n",
            "Requirement already satisfied: tensorboard-data-server<0.7.0,>=0.6.0 in /usr/local/lib/python3.7/dist-packages (from tensorboard<2.9,>=2.8->tensorflow) (0.6.1)\n",
            "Requirement already satisfied: google-auth<3,>=1.6.3 in /usr/local/lib/python3.7/dist-packages (from tensorboard<2.9,>=2.8->tensorflow) (1.35.0)\n",
            "Requirement already satisfied: google-auth-oauthlib<0.5,>=0.4.1 in /usr/local/lib/python3.7/dist-packages (from tensorboard<2.9,>=2.8->tensorflow) (0.4.6)\n",
            "Requirement already satisfied: werkzeug>=0.11.15 in /usr/local/lib/python3.7/dist-packages (from tensorboard<2.9,>=2.8->tensorflow) (1.0.1)\n",
            "Requirement already satisfied: markdown>=2.6.8 in /usr/local/lib/python3.7/dist-packages (from tensorboard<2.9,>=2.8->tensorflow) (3.4.1)\n",
            "Requirement already satisfied: tensorboard-plugin-wit>=1.6.0 in /usr/local/lib/python3.7/dist-packages (from tensorboard<2.9,>=2.8->tensorflow) (1.8.1)\n",
            "Requirement already satisfied: cachetools<5.0,>=2.0.0 in /usr/local/lib/python3.7/dist-packages (from google-auth<3,>=1.6.3->tensorboard<2.9,>=2.8->tensorflow) (4.2.4)\n",
            "Requirement already satisfied: rsa<5,>=3.1.4 in /usr/local/lib/python3.7/dist-packages (from google-auth<3,>=1.6.3->tensorboard<2.9,>=2.8->tensorflow) (4.9)\n",
            "Requirement already satisfied: pyasn1-modules>=0.2.1 in /usr/local/lib/python3.7/dist-packages (from google-auth<3,>=1.6.3->tensorboard<2.9,>=2.8->tensorflow) (0.2.8)\n",
            "Requirement already satisfied: requests-oauthlib>=0.7.0 in /usr/local/lib/python3.7/dist-packages (from google-auth-oauthlib<0.5,>=0.4.1->tensorboard<2.9,>=2.8->tensorflow) (1.3.1)\n",
            "Requirement already satisfied: importlib-metadata>=4.4 in /usr/local/lib/python3.7/dist-packages (from markdown>=2.6.8->tensorboard<2.9,>=2.8->tensorflow) (4.12.0)\n",
            "Requirement already satisfied: zipp>=0.5 in /usr/local/lib/python3.7/dist-packages (from importlib-metadata>=4.4->markdown>=2.6.8->tensorboard<2.9,>=2.8->tensorflow) (3.8.1)\n",
            "Requirement already satisfied: pyasn1<0.5.0,>=0.4.6 in /usr/local/lib/python3.7/dist-packages (from pyasn1-modules>=0.2.1->google-auth<3,>=1.6.3->tensorboard<2.9,>=2.8->tensorflow) (0.4.8)\n",
            "Requirement already satisfied: idna<3,>=2.5 in /usr/local/lib/python3.7/dist-packages (from requests<3,>=2.21.0->tensorboard<2.9,>=2.8->tensorflow) (2.10)\n",
            "Requirement already satisfied: chardet<4,>=3.0.2 in /usr/local/lib/python3.7/dist-packages (from requests<3,>=2.21.0->tensorboard<2.9,>=2.8->tensorflow) (3.0.4)\n",
            "Requirement already satisfied: certifi>=2017.4.17 in /usr/local/lib/python3.7/dist-packages (from requests<3,>=2.21.0->tensorboard<2.9,>=2.8->tensorflow) (2022.6.15)\n",
            "Requirement already satisfied: urllib3!=1.25.0,!=1.25.1,<1.26,>=1.21.1 in /usr/local/lib/python3.7/dist-packages (from requests<3,>=2.21.0->tensorboard<2.9,>=2.8->tensorflow) (1.24.3)\n",
            "Requirement already satisfied: oauthlib>=3.0.0 in /usr/local/lib/python3.7/dist-packages (from requests-oauthlib>=0.7.0->google-auth-oauthlib<0.5,>=0.4.1->tensorboard<2.9,>=2.8->tensorflow) (3.2.0)\n"
          ]
        }
      ]
    },
    {
      "cell_type": "code",
      "source": [
        "#importamos la libreria de tensorflow\n",
        "import tensorflow as tf"
      ],
      "metadata": {
        "id": "CEyOVrbV8DEH"
      },
      "execution_count": null,
      "outputs": []
    },
    {
      "cell_type": "code",
      "source": [
        "suma = tf.add(3,5).numpy()\n",
        "print(suma)"
      ],
      "metadata": {
        "id": "GNRaBDEp70jf",
        "outputId": "31bd9e8e-625a-419e-9c2d-e2813a0b27f7",
        "colab": {
          "base_uri": "https://localhost:8080/"
        }
      },
      "execution_count": null,
      "outputs": [
        {
          "output_type": "stream",
          "name": "stdout",
          "text": [
            "8\n"
          ]
        }
      ]
    },
    {
      "cell_type": "code",
      "source": [
        "x = 3\n",
        "y = 5\n",
        "z = x + y\n",
        "\n",
        "print(z)"
      ],
      "metadata": {
        "id": "DAXpGA8P76L_",
        "outputId": "8307ded5-c387-4497-87af-6fdb8c53efdb",
        "colab": {
          "base_uri": "https://localhost:8080/"
        }
      },
      "execution_count": null,
      "outputs": [
        {
          "output_type": "stream",
          "name": "stdout",
          "text": [
            "8\n"
          ]
        }
      ]
    },
    {
      "cell_type": "markdown",
      "source": [
        "ENTRENAMIENTO DE UNA IA PARA QUE APRENDA A CONVERTIR TEMPERATURAS DE CELSIUS A FAHRENHEIT"
      ],
      "metadata": {
        "id": "26P_YNm--coA"
      }
    },
    {
      "cell_type": "code",
      "source": [
        "#importar las libreias necesarias\n",
        "import tensorflow as tf \n",
        "import matplotlib.pyplot as plt\n",
        "import pandas as pd\n",
        "import seaborn as sb"
      ],
      "metadata": {
        "id": "-bP7PW_w8HRw"
      },
      "execution_count": null,
      "outputs": []
    },
    {
      "cell_type": "code",
      "source": [
        "temperaturas= pd.read_csv('/content/temperaturas.csv', sep=\";\")\n",
        "print(temperaturas)"
      ],
      "metadata": {
        "id": "sJTiKr6n_d2y",
        "outputId": "cafdf145-a6bf-4efa-e9bc-a7da0e630db7",
        "colab": {
          "base_uri": "https://localhost:8080/"
        }
      },
      "execution_count": null,
      "outputs": [
        {
          "output_type": "stream",
          "name": "stdout",
          "text": [
            "     c       k\n",
            "0  -40  233.15\n",
            "1  -30  243.15\n",
            "2  -20  253.15\n",
            "3  -10  263.15\n",
            "4   -5  268.15\n",
            "5   -4  269.15\n",
            "6   -3  270.15\n",
            "7   -2  271.15\n",
            "8   -1  272.15\n",
            "9    0  273.15\n",
            "10   1  274.15\n",
            "11   2  275.15\n",
            "12   3  276.15\n",
            "13   4  277.15\n",
            "14   5  278.15\n",
            "15  10  283.15\n",
            "16  20  293.15\n",
            "17  30  303.15\n",
            "18  40  313.15\n"
          ]
        }
      ]
    },
    {
      "cell_type": "code",
      "source": [
        "#datos de entrenamiento\n",
        "c = temperaturas[\"c\"]\n",
        "k = temperaturas [\"k\"]"
      ],
      "metadata": {
        "id": "kCCiJqZfAhOU"
      },
      "execution_count": null,
      "outputs": []
    },
    {
      "cell_type": "code",
      "source": [
        "#graficar los datos de entreteniemiento\n",
        "sb.scatterplot(k,c)\n",
        "plt.show()"
      ],
      "metadata": {
        "id": "APHoDtUpA3Fe",
        "outputId": "ff506c57-c97d-4aca-ac1c-a0a6960db20b",
        "colab": {
          "base_uri": "https://localhost:8080/",
          "height": 336
        }
      },
      "execution_count": null,
      "outputs": [
        {
          "output_type": "stream",
          "name": "stderr",
          "text": [
            "/usr/local/lib/python3.7/dist-packages/seaborn/_decorators.py:43: FutureWarning: Pass the following variables as keyword args: x, y. From version 0.12, the only valid positional argument will be `data`, and passing other arguments without an explicit keyword will result in an error or misinterpretation.\n",
            "  FutureWarning\n"
          ]
        },
        {
          "output_type": "display_data",
          "data": {
            "text/plain": [
              "<Figure size 432x288 with 1 Axes>"
            ],
            "image/png": "[encoded data removed]"
          },
          "metadata": {
            "needs_background": "light"
          }
        }
      ]
    },
    {
      "cell_type": "code",
      "source": [
        "#modelo de entrenamiento, con capa 1 densa (oculta)\n",
        "modelo = tf.keras.Sequential()\n",
        "modelo.add(tf.keras.layers.Dense(units=1, input_shape=[1]))"
      ],
      "metadata": {
        "id": "f415N03VBQoT"
      },
      "execution_count": null,
      "outputs": []
    },
    {
      "cell_type": "code",
      "source": [
        "#compilar el modelo \n",
        "modelo.compile(optimizer=tf.keras.optimizers.Adam(1), loss=\"mean_squared_error\")\n"
      ],
      "metadata": {
        "id": "iMyZz_V-CE9g"
      },
      "execution_count": null,
      "outputs": []
    },
    {
      "cell_type": "code",
      "source": [
        "#entrenas el modelo\n",
        "epocas = modelo.fit(c,k, epochs=300, verbose=0)"
      ],
      "metadata": {
        "id": "N-UMqacuDEE-"
      },
      "execution_count": null,
      "outputs": []
    },
    {
      "cell_type": "code",
      "source": [
        "#probar nuestra IA\n",
        "resp = modelo.predict([40])\n",
        "print(resp)"
      ],
      "metadata": {
        "id": "nYQ0iX0AEDqM",
        "outputId": "6a283071-08ce-43f3-9400-8b8110665a99",
        "colab": {
          "base_uri": "https://localhost:8080/"
        }
      },
      "execution_count": null,
      "outputs": [
        {
          "output_type": "stream",
          "name": "stdout",
          "text": [
            "[[313.14038]]\n"
          ]
        }
      ]
    },
    {
      "cell_type": "markdown",
      "source": [
        "10/05/22 ENTRENAR UNA **IA** QUE APRENDA A LEER NUMEROS DEL 0 - 9"
      ],
      "metadata": {
        "id": "qvDJqMq9_JhF"
      }
    },
    {
      "cell_type": "code",
      "source": [
        "#1. Importar las librerias.\n",
        "import tensorflow as tf\n",
        "import matplotlib.pyplot as plt\n",
        "import numpy as np\n",
        "import math\n",
        "import tensorflow_datasets as tfds"
      ],
      "metadata": {
        "id": "3QjaPvzN-xw_"
      },
      "execution_count": 3,
      "outputs": []
    },
    {
      "cell_type": "code",
      "source": [
        "#2. Cargamos el dataset\n",
        "dataset, metadata = tfds.load('mnist', as_supervised=True, with_info=True)\n",
        "#print(dataset[\"train\"])\n",
        "datos_entrenamiento, datos_prueba = dataset[\"train\"], dataset[\"test\"]"
      ],
      "metadata": {
        "id": "Lc_2HTDvARan"
      },
      "execution_count": 4,
      "outputs": []
    },
    {
      "cell_type": "code",
      "source": [
        "#monstrar una imagen...\n",
        "for img in datos_entrenamiento.take(1):\n",
        "  print(img)\n",
        "  img = img[0].numpy().reshape(1,28,28,1)\n",
        "  plt.grid(False)\n",
        "  plt.imshow(img[0,..., 0], cmap=plt.cm.binary)"
      ],
      "metadata": {
        "id": "Qj7x-zUeFnt1",
        "outputId": "ef7025c5-3aaa-4b96-e66f-8f0c09576e47",
        "colab": {
          "base_uri": "https://localhost:8080/",
          "height": 1000
        }
      },
      "execution_count": 8,
      "outputs": [
        {
          "output_type": "stream",
          "name": "stdout",
          "text": [
            "(<tf.Tensor: shape=(28, 28, 1), dtype=uint8, numpy=\n",
            "array([[[  0],\n",
            "        [  0],\n",
            "        [  0],\n",
            "        [  0],\n",
            "        [  0],\n",
            "        [  0],\n",
            "        [  0],\n",
            "        [  0],\n",
            "        [  0],\n",
            "        [  0],\n",
            "        [  0],\n",
            "        [  0],\n",
            "        [  0],\n",
            "        [  0],\n",
            "        [  0],\n",
            "        [  0],\n",
            "        [  0],\n",
            "        [  0],\n",
            "        [  0],\n",
            "        [  0],\n",
            "        [  0],\n",
            "        [  0],\n",
            "        [  0],\n",
            "        [  0],\n",
            "        [  0],\n",
            "        [  0],\n",
            "        [  0],\n",
            "        [  0]],\n",
            "\n",
            "       [[  0],\n",
            "        [  0],\n",
            "        [  0],\n",
            "        [  0],\n",
            "        [  0],\n",
            "        [  0],\n",
            "        [  0],\n",
            "        [  0],\n",
            "        [  0],\n",
            "        [  0],\n",
            "        [  0],\n",
            "        [  0],\n",
            "        [  0],\n",
            "        [  0],\n",
            "        [  0],\n",
            "        [  0],\n",
            "        [  0],\n",
            "        [  0],\n",
            "        [  0],\n",
            "        [  0],\n",
            "        [  0],\n",
            "        [  0],\n",
            "        [  0],\n",
            "        [  0],\n",
            "        [  0],\n",
            "        [  0],\n",
            "        [  0],\n",
            "        [  0]],\n",
            "\n",
            "       [[  0],\n",
            "        [  0],\n",
            "        [  0],\n",
            "        [  0],\n",
            "        [  0],\n",
            "        [  0],\n",
            "        [  0],\n",
            "        [  0],\n",
            "        [  0],\n",
            "        [  0],\n",
            "        [  0],\n",
            "        [  0],\n",
            "        [  0],\n",
            "        [  0],\n",
            "        [  0],\n",
            "        [  0],\n",
            "        [  0],\n",
            "        [  0],\n",
            "        [  0],\n",
            "        [  0],\n",
            "        [  0],\n",
            "        [  0],\n",
            "        [  0],\n",
            "        [  0],\n",
            "        [  0],\n",
            "        [  0],\n",
            "        [  0],\n",
            "        [  0]],\n",
            "\n",
            "       [[  0],\n",
            "        [  0],\n",
            "        [  0],\n",
            "        [  0],\n",
            "        [  0],\n",
            "        [  0],\n",
            "        [  0],\n",
            "        [  0],\n",
            "        [  0],\n",
            "        [  0],\n",
            "        [  0],\n",
            "        [  0],\n",
            "        [  0],\n",
            "        [  0],\n",
            "        [  0],\n",
            "        [  0],\n",
            "        [  0],\n",
            "        [  0],\n",
            "        [  0],\n",
            "        [  0],\n",
            "        [  0],\n",
            "        [  0],\n",
            "        [  0],\n",
            "        [  0],\n",
            "        [  0],\n",
            "        [  0],\n",
            "        [  0],\n",
            "        [  0]],\n",
            "\n",
            "       [[  0],\n",
            "        [  0],\n",
            "        [  0],\n",
            "        [  0],\n",
            "        [  0],\n",
            "        [  0],\n",
            "        [  0],\n",
            "        [  0],\n",
            "        [  0],\n",
            "        [  0],\n",
            "        [  0],\n",
            "        [  0],\n",
            "        [  0],\n",
            "        [  0],\n",
            "        [  0],\n",
            "        [  0],\n",
            "        [  0],\n",
            "        [  0],\n",
            "        [  0],\n",
            "        [  0],\n",
            "        [  0],\n",
            "        [  0],\n",
            "        [  0],\n",
            "        [  0],\n",
            "        [  0],\n",
            "        [  0],\n",
            "        [  0],\n",
            "        [  0]],\n",
            "\n",
            "       [[  0],\n",
            "        [  0],\n",
            "        [  0],\n",
            "        [  0],\n",
            "        [  0],\n",
            "        [  0],\n",
            "        [  0],\n",
            "        [  0],\n",
            "        [  0],\n",
            "        [  0],\n",
            "        [  0],\n",
            "        [  0],\n",
            "        [  0],\n",
            "        [  0],\n",
            "        [  0],\n",
            "        [  0],\n",
            "        [  0],\n",
            "        [ 84],\n",
            "        [254],\n",
            "        [101],\n",
            "        [  0],\n",
            "        [  0],\n",
            "        [  0],\n",
            "        [  0],\n",
            "        [  0],\n",
            "        [  0],\n",
            "        [  0],\n",
            "        [  0]],\n",
            "\n",
            "       [[  0],\n",
            "        [  0],\n",
            "        [  0],\n",
            "        [  0],\n",
            "        [  0],\n",
            "        [  0],\n",
            "        [  0],\n",
            "        [  0],\n",
            "        [  0],\n",
            "        [  0],\n",
            "        [  0],\n",
            "        [  0],\n",
            "        [  0],\n",
            "        [  0],\n",
            "        [  0],\n",
            "        [  0],\n",
            "        [  0],\n",
            "        [174],\n",
            "        [253],\n",
            "        [119],\n",
            "        [  0],\n",
            "        [  0],\n",
            "        [  0],\n",
            "        [  0],\n",
            "        [  0],\n",
            "        [  0],\n",
            "        [  0],\n",
            "        [  0]],\n",
            "\n",
            "       [[  0],\n",
            "        [  0],\n",
            "        [  0],\n",
            "        [  0],\n",
            "        [  0],\n",
            "        [  0],\n",
            "        [  0],\n",
            "        [  0],\n",
            "        [  0],\n",
            "        [  0],\n",
            "        [  0],\n",
            "        [  0],\n",
            "        [  0],\n",
            "        [  0],\n",
            "        [  0],\n",
            "        [  0],\n",
            "        [ 31],\n",
            "        [247],\n",
            "        [202],\n",
            "        [ 29],\n",
            "        [  0],\n",
            "        [  0],\n",
            "        [  0],\n",
            "        [  0],\n",
            "        [  0],\n",
            "        [  0],\n",
            "        [  0],\n",
            "        [  0]],\n",
            "\n",
            "       [[  0],\n",
            "        [  0],\n",
            "        [  0],\n",
            "        [  0],\n",
            "        [  0],\n",
            "        [  0],\n",
            "        [  0],\n",
            "        [  0],\n",
            "        [  0],\n",
            "        [  1],\n",
            "        [  1],\n",
            "        [  0],\n",
            "        [  0],\n",
            "        [  0],\n",
            "        [  0],\n",
            "        [  0],\n",
            "        [141],\n",
            "        [253],\n",
            "        [168],\n",
            "        [  0],\n",
            "        [  0],\n",
            "        [  0],\n",
            "        [  0],\n",
            "        [  0],\n",
            "        [  0],\n",
            "        [  0],\n",
            "        [  0],\n",
            "        [  0]],\n",
            "\n",
            "       [[  0],\n",
            "        [  0],\n",
            "        [  0],\n",
            "        [  0],\n",
            "        [  0],\n",
            "        [  0],\n",
            "        [  0],\n",
            "        [  0],\n",
            "        [  0],\n",
            "        [ 66],\n",
            "        [208],\n",
            "        [ 56],\n",
            "        [  0],\n",
            "        [  0],\n",
            "        [  0],\n",
            "        [  0],\n",
            "        [186],\n",
            "        [253],\n",
            "        [120],\n",
            "        [  0],\n",
            "        [  0],\n",
            "        [  0],\n",
            "        [  0],\n",
            "        [  0],\n",
            "        [  0],\n",
            "        [  0],\n",
            "        [  0],\n",
            "        [  0]],\n",
            "\n",
            "       [[  0],\n",
            "        [  0],\n",
            "        [  0],\n",
            "        [  0],\n",
            "        [  0],\n",
            "        [  0],\n",
            "        [  0],\n",
            "        [  0],\n",
            "        [  0],\n",
            "        [ 57],\n",
            "        [253],\n",
            "        [119],\n",
            "        [  0],\n",
            "        [  0],\n",
            "        [  0],\n",
            "        [ 28],\n",
            "        [249],\n",
            "        [240],\n",
            "        [ 25],\n",
            "        [  0],\n",
            "        [  0],\n",
            "        [  0],\n",
            "        [  0],\n",
            "        [  0],\n",
            "        [  0],\n",
            "        [  0],\n",
            "        [  0],\n",
            "        [  0]],\n",
            "\n",
            "       [[  0],\n",
            "        [  0],\n",
            "        [  0],\n",
            "        [  0],\n",
            "        [  0],\n",
            "        [  0],\n",
            "        [  0],\n",
            "        [  0],\n",
            "        [  0],\n",
            "        [ 34],\n",
            "        [253],\n",
            "        [119],\n",
            "        [  0],\n",
            "        [  0],\n",
            "        [  0],\n",
            "        [109],\n",
            "        [254],\n",
            "        [197],\n",
            "        [  0],\n",
            "        [  0],\n",
            "        [  0],\n",
            "        [  0],\n",
            "        [  0],\n",
            "        [  0],\n",
            "        [  0],\n",
            "        [  0],\n",
            "        [  0],\n",
            "        [  0]],\n",
            "\n",
            "       [[  0],\n",
            "        [  0],\n",
            "        [  0],\n",
            "        [  0],\n",
            "        [  0],\n",
            "        [  0],\n",
            "        [  0],\n",
            "        [  0],\n",
            "        [  0],\n",
            "        [ 53],\n",
            "        [253],\n",
            "        [119],\n",
            "        [  0],\n",
            "        [  0],\n",
            "        [  0],\n",
            "        [135],\n",
            "        [254],\n",
            "        [133],\n",
            "        [  0],\n",
            "        [  0],\n",
            "        [  0],\n",
            "        [  0],\n",
            "        [  0],\n",
            "        [  0],\n",
            "        [  0],\n",
            "        [  0],\n",
            "        [  0],\n",
            "        [  0]],\n",
            "\n",
            "       [[  0],\n",
            "        [  0],\n",
            "        [  0],\n",
            "        [  0],\n",
            "        [  0],\n",
            "        [  0],\n",
            "        [  0],\n",
            "        [  0],\n",
            "        [  0],\n",
            "        [133],\n",
            "        [254],\n",
            "        [119],\n",
            "        [  0],\n",
            "        [  0],\n",
            "        [ 27],\n",
            "        [240],\n",
            "        [255],\n",
            "        [ 35],\n",
            "        [  0],\n",
            "        [  0],\n",
            "        [  0],\n",
            "        [  0],\n",
            "        [  0],\n",
            "        [  0],\n",
            "        [  0],\n",
            "        [  0],\n",
            "        [  0],\n",
            "        [  0]],\n",
            "\n",
            "       [[  0],\n",
            "        [  0],\n",
            "        [  0],\n",
            "        [  0],\n",
            "        [  0],\n",
            "        [  0],\n",
            "        [  0],\n",
            "        [  0],\n",
            "        [  7],\n",
            "        [235],\n",
            "        [253],\n",
            "        [208],\n",
            "        [151],\n",
            "        [169],\n",
            "        [215],\n",
            "        [253],\n",
            "        [206],\n",
            "        [  2],\n",
            "        [  0],\n",
            "        [  0],\n",
            "        [  0],\n",
            "        [  0],\n",
            "        [  0],\n",
            "        [  0],\n",
            "        [  0],\n",
            "        [  0],\n",
            "        [  0],\n",
            "        [  0]],\n",
            "\n",
            "       [[  0],\n",
            "        [  0],\n",
            "        [  0],\n",
            "        [  0],\n",
            "        [  0],\n",
            "        [  0],\n",
            "        [  0],\n",
            "        [  0],\n",
            "        [ 97],\n",
            "        [253],\n",
            "        [253],\n",
            "        [253],\n",
            "        [254],\n",
            "        [253],\n",
            "        [253],\n",
            "        [253],\n",
            "        [ 86],\n",
            "        [  0],\n",
            "        [  0],\n",
            "        [  0],\n",
            "        [  0],\n",
            "        [  0],\n",
            "        [  0],\n",
            "        [  0],\n",
            "        [  0],\n",
            "        [  0],\n",
            "        [  0],\n",
            "        [  0]],\n",
            "\n",
            "       [[  0],\n",
            "        [  0],\n",
            "        [  0],\n",
            "        [  0],\n",
            "        [  0],\n",
            "        [  0],\n",
            "        [  0],\n",
            "        [  0],\n",
            "        [150],\n",
            "        [244],\n",
            "        [145],\n",
            "        [119],\n",
            "        [101],\n",
            "        [ 82],\n",
            "        [253],\n",
            "        [253],\n",
            "        [ 14],\n",
            "        [  0],\n",
            "        [  0],\n",
            "        [  0],\n",
            "        [  0],\n",
            "        [  0],\n",
            "        [  0],\n",
            "        [  0],\n",
            "        [  0],\n",
            "        [  0],\n",
            "        [  0],\n",
            "        [  0]],\n",
            "\n",
            "       [[  0],\n",
            "        [  0],\n",
            "        [  0],\n",
            "        [  0],\n",
            "        [  0],\n",
            "        [  0],\n",
            "        [  0],\n",
            "        [  0],\n",
            "        [  0],\n",
            "        [  0],\n",
            "        [  0],\n",
            "        [  0],\n",
            "        [  0],\n",
            "        [ 84],\n",
            "        [254],\n",
            "        [172],\n",
            "        [  0],\n",
            "        [  0],\n",
            "        [  0],\n",
            "        [  0],\n",
            "        [  0],\n",
            "        [  0],\n",
            "        [  0],\n",
            "        [  0],\n",
            "        [  0],\n",
            "        [  0],\n",
            "        [  0],\n",
            "        [  0]],\n",
            "\n",
            "       [[  0],\n",
            "        [  0],\n",
            "        [  0],\n",
            "        [  0],\n",
            "        [  0],\n",
            "        [  0],\n",
            "        [  0],\n",
            "        [  0],\n",
            "        [  0],\n",
            "        [  0],\n",
            "        [  0],\n",
            "        [  0],\n",
            "        [  0],\n",
            "        [174],\n",
            "        [253],\n",
            "        [119],\n",
            "        [  0],\n",
            "        [  0],\n",
            "        [  0],\n",
            "        [  0],\n",
            "        [  0],\n",
            "        [  0],\n",
            "        [  0],\n",
            "        [  0],\n",
            "        [  0],\n",
            "        [  0],\n",
            "        [  0],\n",
            "        [  0]],\n",
            "\n",
            "       [[  0],\n",
            "        [  0],\n",
            "        [  0],\n",
            "        [  0],\n",
            "        [  0],\n",
            "        [  0],\n",
            "        [  0],\n",
            "        [  0],\n",
            "        [  0],\n",
            "        [  0],\n",
            "        [  0],\n",
            "        [  0],\n",
            "        [  0],\n",
            "        [237],\n",
            "        [252],\n",
            "        [ 56],\n",
            "        [  0],\n",
            "        [  0],\n",
            "        [  0],\n",
            "        [  0],\n",
            "        [  0],\n",
            "        [  0],\n",
            "        [  0],\n",
            "        [  0],\n",
            "        [  0],\n",
            "        [  0],\n",
            "        [  0],\n",
            "        [  0]],\n",
            "\n",
            "       [[  0],\n",
            "        [  0],\n",
            "        [  0],\n",
            "        [  0],\n",
            "        [  0],\n",
            "        [  0],\n",
            "        [  0],\n",
            "        [  0],\n",
            "        [  0],\n",
            "        [  0],\n",
            "        [  0],\n",
            "        [  0],\n",
            "        [ 50],\n",
            "        [241],\n",
            "        [182],\n",
            "        [  0],\n",
            "        [  0],\n",
            "        [  0],\n",
            "        [  0],\n",
            "        [  0],\n",
            "        [  0],\n",
            "        [  0],\n",
            "        [  0],\n",
            "        [  0],\n",
            "        [  0],\n",
            "        [  0],\n",
            "        [  0],\n",
            "        [  0]],\n",
            "\n",
            "       [[  0],\n",
            "        [  0],\n",
            "        [  0],\n",
            "        [  0],\n",
            "        [  0],\n",
            "        [  0],\n",
            "        [  0],\n",
            "        [  0],\n",
            "        [  0],\n",
            "        [  0],\n",
            "        [  0],\n",
            "        [  0],\n",
            "        [187],\n",
            "        [254],\n",
            "        [249],\n",
            "        [105],\n",
            "        [  0],\n",
            "        [  0],\n",
            "        [  0],\n",
            "        [  0],\n",
            "        [  0],\n",
            "        [  0],\n",
            "        [  0],\n",
            "        [  0],\n",
            "        [  0],\n",
            "        [  0],\n",
            "        [  0],\n",
            "        [  0]],\n",
            "\n",
            "       [[  0],\n",
            "        [  0],\n",
            "        [  0],\n",
            "        [  0],\n",
            "        [  0],\n",
            "        [  0],\n",
            "        [  0],\n",
            "        [  0],\n",
            "        [  0],\n",
            "        [  0],\n",
            "        [  0],\n",
            "        [  0],\n",
            "        [186],\n",
            "        [253],\n",
            "        [206],\n",
            "        [ 21],\n",
            "        [  0],\n",
            "        [  0],\n",
            "        [  0],\n",
            "        [  0],\n",
            "        [  0],\n",
            "        [  0],\n",
            "        [  0],\n",
            "        [  0],\n",
            "        [  0],\n",
            "        [  0],\n",
            "        [  0],\n",
            "        [  0]],\n",
            "\n",
            "       [[  0],\n",
            "        [  0],\n",
            "        [  0],\n",
            "        [  0],\n",
            "        [  0],\n",
            "        [  0],\n",
            "        [  0],\n",
            "        [  0],\n",
            "        [  0],\n",
            "        [  0],\n",
            "        [  0],\n",
            "        [  0],\n",
            "        [227],\n",
            "        [242],\n",
            "        [ 32],\n",
            "        [  0],\n",
            "        [  0],\n",
            "        [  0],\n",
            "        [  0],\n",
            "        [  0],\n",
            "        [  0],\n",
            "        [  0],\n",
            "        [  0],\n",
            "        [  0],\n",
            "        [  0],\n",
            "        [  0],\n",
            "        [  0],\n",
            "        [  0]],\n",
            "\n",
            "       [[  0],\n",
            "        [  0],\n",
            "        [  0],\n",
            "        [  0],\n",
            "        [  0],\n",
            "        [  0],\n",
            "        [  0],\n",
            "        [  0],\n",
            "        [  0],\n",
            "        [  0],\n",
            "        [  0],\n",
            "        [  0],\n",
            "        [236],\n",
            "        [219],\n",
            "        [  0],\n",
            "        [  0],\n",
            "        [  0],\n",
            "        [  0],\n",
            "        [  0],\n",
            "        [  0],\n",
            "        [  0],\n",
            "        [  0],\n",
            "        [  0],\n",
            "        [  0],\n",
            "        [  0],\n",
            "        [  0],\n",
            "        [  0],\n",
            "        [  0]],\n",
            "\n",
            "       [[  0],\n",
            "        [  0],\n",
            "        [  0],\n",
            "        [  0],\n",
            "        [  0],\n",
            "        [  0],\n",
            "        [  0],\n",
            "        [  0],\n",
            "        [  0],\n",
            "        [  0],\n",
            "        [  0],\n",
            "        [  0],\n",
            "        [  0],\n",
            "        [  0],\n",
            "        [  0],\n",
            "        [  0],\n",
            "        [  0],\n",
            "        [  0],\n",
            "        [  0],\n",
            "        [  0],\n",
            "        [  0],\n",
            "        [  0],\n",
            "        [  0],\n",
            "        [  0],\n",
            "        [  0],\n",
            "        [  0],\n",
            "        [  0],\n",
            "        [  0]],\n",
            "\n",
            "       [[  0],\n",
            "        [  0],\n",
            "        [  0],\n",
            "        [  0],\n",
            "        [  0],\n",
            "        [  0],\n",
            "        [  0],\n",
            "        [  0],\n",
            "        [  0],\n",
            "        [  0],\n",
            "        [  0],\n",
            "        [  0],\n",
            "        [  0],\n",
            "        [  0],\n",
            "        [  0],\n",
            "        [  0],\n",
            "        [  0],\n",
            "        [  0],\n",
            "        [  0],\n",
            "        [  0],\n",
            "        [  0],\n",
            "        [  0],\n",
            "        [  0],\n",
            "        [  0],\n",
            "        [  0],\n",
            "        [  0],\n",
            "        [  0],\n",
            "        [  0]],\n",
            "\n",
            "       [[  0],\n",
            "        [  0],\n",
            "        [  0],\n",
            "        [  0],\n",
            "        [  0],\n",
            "        [  0],\n",
            "        [  0],\n",
            "        [  0],\n",
            "        [  0],\n",
            "        [  0],\n",
            "        [  0],\n",
            "        [  0],\n",
            "        [  0],\n",
            "        [  0],\n",
            "        [  0],\n",
            "        [  0],\n",
            "        [  0],\n",
            "        [  0],\n",
            "        [  0],\n",
            "        [  0],\n",
            "        [  0],\n",
            "        [  0],\n",
            "        [  0],\n",
            "        [  0],\n",
            "        [  0],\n",
            "        [  0],\n",
            "        [  0],\n",
            "        [  0]]], dtype=uint8)>, <tf.Tensor: shape=(), dtype=int64, numpy=4>)\n"
          ]
        },
        {
          "output_type": "display_data",
          "data": {
            "text/plain": [
              "<Figure size 432x288 with 1 Axes>"
            ],
            "image/png": "[encoded data removed]"
          },
          "metadata": {
            "needs_background": "light"
          }
        }
      ]
    },
    {
      "cell_type": "code",
      "source": [
        "#3. #asignar las etiquetas son 10\n",
        "numeros_letras = [\"Cero\", \"Uno\", \"Dos\", \"Tres\", \"Cuatro\", \"Cinco\", \"Seis\", \"Siete\", \"Ocho\", \"Nueve\"]"
      ],
      "metadata": {
        "id": "Hf-t3uf8JXbY"
      },
      "execution_count": 9,
      "outputs": []
    },
    {
      "cell_type": "code",
      "source": [
        "#4. obtener la cantidad de datos.\n",
        "#print(metadata)\n",
        "cantidad_numeros_entrenamiento = metadata.splits[\"train\"].num_examples\n",
        "cantidad_numeros_prueba = metadata.splits[\"test\"].num_examples\n",
        "print(cantidad_numeros_entrenamiento, cantidad_numeros_prueba)"
      ],
      "metadata": {
        "id": "IChfe7qEsqKn",
        "outputId": "69a67a15-95e1-4dcb-b8ac-e15663b1693a",
        "colab": {
          "base_uri": "https://localhost:8080/"
        }
      },
      "execution_count": 10,
      "outputs": [
        {
          "output_type": "stream",
          "name": "stdout",
          "text": [
            "60000 10000\n"
          ]
        }
      ]
    },
    {
      "cell_type": "code",
      "source": [
        "#5. funcion normalizadora de los pixeles de 0 - 255 que sean valores de 0 - 1\n",
        "def normalizacion(img, label):\n",
        "  img = tf.cast(img, tf.float32)\n",
        "  img /= 255 #236/255 = 0.004237288\n",
        "  return img, label"
      ],
      "metadata": {
        "id": "QjdP_6gusqza"
      },
      "execution_count": 11,
      "outputs": []
    },
    {
      "cell_type": "code",
      "source": [
        "#6. Llamamos la funcion normlizadora\n",
        "datos_entrenamiento = datos_entrenamiento.map(normalizacion)\n",
        "datos_prueba = datos_prueba.map(normalizacion)\n",
        "\n",
        "#for img in datos_entrenamiento.take(1):\n",
        "  #print(img[0])#5.58150468e-08 => 0.0000000558150468"
      ],
      "metadata": {
        "id": "4RAN4uUyswG_"
      },
      "execution_count": 12,
      "outputs": []
    },
    {
      "cell_type": "code",
      "source": [
        "modelo = tf.keras.Sequential([\n",
        "    tf.keras.layers.Flatten(input_shape=(28,28,1)),\n",
        "    tf.keras.layers.Dense(64, activation=tf.nn.relu),\n",
        "    tf.keras.layers.Dense(64, activation=tf.nn.relu),\n",
        "    tf.keras.layers.Dense(10, activation=tf.nn.softmax)\n",
        "])"
      ],
      "metadata": {
        "id": "rzn1tX0lIMgw"
      },
      "execution_count": 13,
      "outputs": []
    },
    {
      "cell_type": "code",
      "source": [
        "modelo.compile(\n",
        "    optimizer=\"adam\",\n",
        "    loss=\"sparse_categorical_crossentropy\",\n",
        "    metrics=['accuracy']\n",
        ")"
      ],
      "metadata": {
        "id": "-rD7SZH_IVso"
      },
      "execution_count": 14,
      "outputs": []
    },
    {
      "cell_type": "code",
      "source": [
        "batchsize = 32\n",
        "datos_entrenamiento = datos_entrenamiento.repeat().shuffle(cantidad_numeros_entrenamiento).batch(batchsize)\n",
        "datos_prueba= datos_prueba.repeat().shuffle(cantidad_numeros_entrenamiento).batch(batchsize)"
      ],
      "metadata": {
        "id": "wnd3npckIZFw"
      },
      "execution_count": 15,
      "outputs": []
    },
    {
      "cell_type": "code",
      "source": [
        "modelo.fit(datos_entrenamiento, epochs=5,steps_per_epoch=math.ceil(cantidad_numeros_entrenamiento/batchsize))"
      ],
      "metadata": {
        "id": "kbGopAJJI3Gf",
        "outputId": "12fe9c41-230d-46a7-98d6-1357ed66e77b",
        "colab": {
          "base_uri": "https://localhost:8080/"
        }
      },
      "execution_count": 19,
      "outputs": [
        {
          "output_type": "stream",
          "name": "stdout",
          "text": [
            "Epoch 1/5\n",
            "1875/1875 [==============================] - 15s 5ms/step - loss: 0.2738 - accuracy: 0.9194\n",
            "Epoch 2/5\n",
            "1875/1875 [==============================] - 9s 5ms/step - loss: 0.1232 - accuracy: 0.9635\n",
            "Epoch 3/5\n",
            "1875/1875 [==============================] - 9s 5ms/step - loss: 0.0862 - accuracy: 0.9734\n",
            "Epoch 4/5\n",
            "1875/1875 [==============================] - 9s 5ms/step - loss: 0.0681 - accuracy: 0.9789\n",
            "Epoch 5/5\n",
            "1875/1875 [==============================] - 9s 5ms/step - loss: 0.0563 - accuracy: 0.9818\n"
          ]
        },
        {
          "output_type": "execute_result",
          "data": {
            "text/plain": [
              "<keras.callbacks.History at 0x7f4122a94150>"
            ]
          },
          "metadata": {},
          "execution_count": 19
        }
      ]
    },
    {
      "cell_type": "code",
      "source": [
        "test_loss, test_accuracy =modelo.evaluate(datos_prueba, steps=math.ceil(cantidad_numeros_entrenamiento/batchsize))\n",
        "print(\"Resultado de las pruebas\", test_loss, test_accuracy)"
      ],
      "metadata": {
        "id": "od34khgyI542",
        "outputId": "912140e3-49cb-4b80-f3a7-1621c1449b37",
        "colab": {
          "base_uri": "https://localhost:8080/"
        }
      },
      "execution_count": 22,
      "outputs": [
        {
          "output_type": "stream",
          "name": "stdout",
          "text": [
            "1875/1875 [==============================] - 11s 4ms/step - loss: 0.0915 - accuracy: 0.9727\n",
            "Resultado de las pruebas 0.09146038442850113 0.9727333188056946\n"
          ]
        }
      ]
    },
    {
      "cell_type": "code",
      "source": [
        "def graficar_imagen(i, predictions_array,true_labels,images):\n",
        "  predictions_array, true_labels, img = predictions_array[i],true_labels[i],images[i]\n",
        "  plt.grid(False)\n",
        "  plt.xticks([])\n",
        "  plt.yticks([])\n",
        "  plt.imshow(img[...,0],cmap=plt.cm.binary)\n",
        "\n",
        "  predicted_label = np.argmax(predictions_array)\n",
        "\n",
        "  if predicted_label == true_labels:\n",
        "   color = 'blue'\n",
        " \n",
        "   plt.xlabel(\"Prediccion: {}\".format(numeros_letras[predicted_label]), color=color)"
      ],
      "metadata": {
        "id": "tIkbvPIlI7h-"
      },
      "execution_count": 29,
      "outputs": []
    },
    {
      "cell_type": "code",
      "source": [
        "for imagenes_prueba, etiquetas_prueba in datos_prueba.take(1):\n",
        "  imagenes_prueba=imagenes_prueba.numpy()\n",
        "  etiquetas_prueba = etiquetas_prueba.numpy()\n",
        "  predicciones = modelo.predict(imagenes_prueba)\n",
        "\n",
        "def graficar_valores_array(i, predictions_array, true_label):\n",
        "  predictions_array, true_label = predictions_array[i],true_label[i]\n",
        "  plt.grid(False)\n",
        "  plt.xticks([])\n",
        "  plt.yticks([])\n",
        "  thisplot = plt.bar(range(10), predictions_array, color=\"#888888\")\n",
        "  plt.ylim([0,1])\n",
        "  predicted_label = np.argmax(predictions_array)\n",
        "  plt.ylim([0,1])\n",
        "  predicted_label = np.argmax(predictions_array)\n",
        "\n",
        "  thisplot[predicted_label].set_color('red')\n",
        "  thisplot[true_label].set_color('blue')"
      ],
      "metadata": {
        "id": "53rIa9VhI9x3"
      },
      "execution_count": 25,
      "outputs": []
    },
    {
      "cell_type": "code",
      "source": [
        "numrows=5\n",
        "numcols=3\n",
        "numimages = numrows*numcols\n",
        "\n",
        "\n",
        "plt.figure(figsize=(2*2*numcols,2*numrows))\n",
        "for i in range(numimages):\n",
        "  plt.subplot(numrows,  2*numcols,  2*i+1)\n",
        "  graficar_imagen(i, predicciones, etiquetas_prueba, imagenes_prueba)\n",
        "  plt.subplot(numrows, 2*numcols,2*i+2)\n",
        "  graficar_valores_array(i,predicciones,etiquetas_prueba)\n",
        "\n",
        "\n",
        "\n",
        "plt.show()"
      ],
      "metadata": {
        "id": "aGjjHihlKfh-",
        "outputId": "e5d2df03-3537-4c04-91e0-f166014d6d03",
        "colab": {
          "base_uri": "https://localhost:8080/",
          "height": 589
        }
      },
      "execution_count": 30,
      "outputs": [
        {
          "output_type": "display_data",
          "data": {
            "text/plain": [
              "<Figure size 864x720 with 30 Axes>"
            ],
            "image/png": "[encoded data removed]"
          },
          "metadata": {}
        }
      ]
    },
    {
      "cell_type": "code",
      "source": [
        "#probar la IA\n",
        "i=0\n",
        "for miImg, etiqueta in datos_entrenamiento.take(1):\n",
        "  etiqueta = etiqueta.numpy()\n",
        "  img = miImg[i].numpy().reshape(1,28,28,1)\n",
        "  prediccion = modelo.predict(img, batch_size=1)\n",
        "\n",
        "  valor_predicho = np.argmax(prediccion)\n",
        "  print(valor_predicho, etiqueta[i])\n",
        "\n",
        "  plt.grid(False)\n",
        "  plt.imshow(img[0,...,0], cmap=plt.cm.binary)\n",
        "  plt.xlabel(\"Prediccion: {}\".format(numeros_letras[valor_predicho]), color=\"green\")"
      ],
      "metadata": {
        "id": "pAeudnCEMJXg",
        "outputId": "17eccfc0-00a8-4af4-dd1a-1ed604574fe4",
        "colab": {
          "base_uri": "https://localhost:8080/",
          "height": 297
        }
      },
      "execution_count": 33,
      "outputs": [
        {
          "output_type": "stream",
          "name": "stdout",
          "text": [
            "0 0\n"
          ]
        },
        {
          "output_type": "display_data",
          "data": {
            "text/plain": [
              "<Figure size 432x288 with 1 Axes>"
            ],
            "image/png": "[encoded data removed]"
          },
          "metadata": {
            "needs_background": "light"
          }
        }
      ]
    }
  ]
}